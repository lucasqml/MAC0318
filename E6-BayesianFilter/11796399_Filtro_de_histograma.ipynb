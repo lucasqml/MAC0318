{
  "cells": [
    {
      "cell_type": "markdown",
      "id": "46fe28e1-3bde-40bc-9b0d-c852511e90ea",
      "metadata": {
        "id": "46fe28e1-3bde-40bc-9b0d-c852511e90ea"
      },
      "source": [
        "# MAC0318 - Estimação de estado - Notebook 2\n",
        "\n",
        "*Pré-requisitos*: \n",
        "- **Software**: Para rodar este notebook corretamente, você deve ter o Python na versão 3.9 ou mais recente e as bibliotecas NumPy, Matplotlib e Scipy instaladas. \n",
        "- **Conhecimento**: Esta atividade assume familiaridade com o uso de notebooks Jupyter, a manipulação de matrizes usando a bilbioteca NumPy e conhecimento de teoria de probabilidades. Recomendamos seguir algum tutorial da internet antes de realizar essa atividade, se esse não for o seu caso.\n",
        "\n",
        "<span style=\"color:blue\">Se você está rodando o notebook em sala de aula, você deve ativar o ambiente `duckietown` do conda antes de abrir o jupyter notebook e escolher o kernel `duckietown`, para que os requerimentos sejam satisfeitos.</red>"
      ]
    },
    {
      "cell_type": "markdown",
      "id": "1807675c-7aed-432c-bae6-e328595b94f4",
      "metadata": {
        "id": "1807675c-7aed-432c-bae6-e328595b94f4"
      },
      "source": [
        "## Filto de histograma unidimensional\n",
        "\n",
        "Vamos agora assumir que nosso **domínio é a reta real**, ou seja, que o agente navega em um ambiente e seu estado é representado pela variável aleatória $X_t$ cujo suporte é $\\mathbb{R}$. Para esse caso, nossa crença é uma **função de densidade** e portanto não podemos mais representá-la como um vetor de tamanho finito, como fizemos anteriormente. Para tanto, vamos adotar um **filtro de histograma**, que retringe o suporte da função de crença a um conjunto finito de **centróides**."
      ]
    },
    {
      "cell_type": "code",
      "execution_count": null,
      "id": "494b70e7-9d00-4e32-9b6d-ebdcdbe53bec",
      "metadata": {
        "id": "494b70e7-9d00-4e32-9b6d-ebdcdbe53bec"
      },
      "outputs": [],
      "source": [
        "# Vamos carregar as bibliotecas necessárias\n",
        "\n",
        "%matplotlib inline\n",
        "\n",
        "import numpy as np\n",
        "import matplotlib.pyplot as plt\n",
        "from scipy.stats import norm"
      ]
    },
    {
      "cell_type": "markdown",
      "id": "90ffef35-8416-4b9d-b2bf-3e508257dd6b",
      "metadata": {
        "id": "90ffef35-8416-4b9d-b2bf-3e508257dd6b"
      },
      "source": [
        "## Função de crença\n",
        "\n",
        "O filtro de histograma representa a crença como uma somátoria de [funções de Dirac](https://en.wikipedia.org/wiki/Dirac_delta_function) centradas em pontos $x_1,\\ldots,x_N$ chamados de centróides:\n",
        "$$\n",
        " \\text{bel}_t(x) = \\sum_{c=1}^N w_{c,t} \\delta(x - x_c) .\n",
        "$$\n",
        "A função de Diraca satisfaz a seguinte propriedade quando integrada:\n",
        "$$\n",
        " \\int_{-\\infty}^{\\infty} \\delta(x-x_c) dx = 1 .\n",
        "$$\n",
        "\n",
        "Para que a função de crença definida acima seja de fato uma densidade devemos satisfazer as seguintes propriedades:\n",
        "$$\n",
        " \\int_{-\\infty}^{\\infty} \\text{bel}_t(x) dx = 1 \\Rightarrow \\sum_c w_{c,t} \\int_{-\\infty}^{\\infty} \\delta(x-x_c) dx = \\sum_c w_{c,t} = 1 .\n",
        "$$\n",
        "e\n",
        "$$\n",
        " \\text{bel}_t(x) \\geq 0 \\Rightarrow w_{c,t} \\geq 0 .\n",
        "$$\n",
        "Ou seja, a função de crença é representa por um conjunto ou vetor de pesos $\\{ w_{c} \\}$, que satisfazem $w_c \\geq 0$ e $\\sum_c w_c = 1$, associados aos centróides $\\{ x_c \\}$."
      ]
    },
    {
      "cell_type": "markdown",
      "id": "1003387e-48b9-4279-8952-b234a33334e0",
      "metadata": {
        "id": "1003387e-48b9-4279-8952-b234a33334e0"
      },
      "source": [
        "Além dos pesos, a função de crença é parametrizada por um intervalo $[x_\\text{min}, x_\\text{max}]$ e pela quantidade $N$ de centróides espaçados uniformemente dentro do intervalo real. Note que nossa função sempre atribuí valor zero para qualquer estado fora desse intervalo, portanto é preciso escolher o intervalo de maneira adequada."
      ]
    },
    {
      "cell_type": "code",
      "execution_count": null,
      "id": "df8c138f-7174-485b-9dcc-b790c03ab5b6",
      "metadata": {
        "id": "df8c138f-7174-485b-9dcc-b790c03ab5b6"
      },
      "outputs": [],
      "source": [
        "xmin, xmax = 0, 10\n",
        "N = 10\n",
        "centroides = np.linspace(xmin,xmax,N)"
      ]
    },
    {
      "cell_type": "markdown",
      "id": "cae9f5d9",
      "metadata": {
        "id": "cae9f5d9"
      },
      "source": [
        "Por exemplo, uma função de crença uniforme representando máxima ignorância sobre o estado pode ser representada por um vetor como a seguir. "
      ]
    },
    {
      "cell_type": "code",
      "execution_count": null,
      "id": "a3cec5b4",
      "metadata": {
        "colab": {
          "base_uri": "https://localhost:8080/"
        },
        "id": "a3cec5b4",
        "outputId": "0d8b6009-50b7-41e3-e678-be2c704e1cf9"
      },
      "outputs": [
        {
          "output_type": "execute_result",
          "data": {
            "text/plain": [
              "(True, True)"
            ]
          },
          "metadata": {},
          "execution_count": 54
        }
      ],
      "source": [
        "# função de crença uniforme representada pelos seus pesos\n",
        "\n",
        "bel = (1/N)*np.ones(N)\n",
        "\n",
        "# Teste de consistência\n",
        "\n",
        "bel.min() >= 0, np.allclose(1,bel.sum())"
      ]
    },
    {
      "cell_type": "markdown",
      "id": "9f03975f-3e40-4e54-80dc-c738792d01a9",
      "metadata": {
        "id": "9f03975f-3e40-4e54-80dc-c738792d01a9"
      },
      "source": [
        "Vamos escrever uma função para representar visualmente a função de crença."
      ]
    },
    {
      "cell_type": "code",
      "execution_count": null,
      "id": "5b4420cb-33d0-45a6-af25-d5be6aa8cfcc",
      "metadata": {
        "id": "5b4420cb-33d0-45a6-af25-d5be6aa8cfcc"
      },
      "outputs": [],
      "source": [
        "def show_belief(b):\n",
        "    b = b.flatten()\n",
        "    states = plt.bar(centroides, b)\n",
        "    plt.xticks(centroides)\n",
        "    plt.ylim([0, 1])\n",
        "    plt.ylabel('bel(X)')\n",
        "    plt.xlabel('X')\n",
        "    plt.title('Crença')"
      ]
    },
    {
      "cell_type": "markdown",
      "id": "10f684b2-31a8-416a-b5e4-cf92c257b2be",
      "metadata": {
        "id": "10f684b2-31a8-416a-b5e4-cf92c257b2be"
      },
      "source": [
        "Note que a largura das barras são apenas para visualização; a função de crença define uma densidade não nula apenas nos centróides. "
      ]
    },
    {
      "cell_type": "code",
      "execution_count": null,
      "id": "9144afa2-6849-4d76-8531-f5da3b58b647",
      "metadata": {
        "colab": {
          "base_uri": "https://localhost:8080/",
          "height": 295
        },
        "id": "9144afa2-6849-4d76-8531-f5da3b58b647",
        "outputId": "bde628cb-a339-4a9b-85fc-3eb78b9e477c"
      },
      "outputs": [
        {
          "output_type": "display_data",
          "data": {
            "text/plain": [
              "<Figure size 432x288 with 1 Axes>"
            ],
            "image/png": "[encoded data removed]"
          },
          "metadata": {
            "needs_background": "light"
          }
        }
      ],
      "source": [
        "show_belief(bel)"
      ]
    },
    {
      "cell_type": "markdown",
      "id": "101547ab",
      "metadata": {
        "id": "101547ab"
      },
      "source": [
        "Vamos considerar outra função de crença, desta vez assumindo que nosso estado é aproximadamente uma distribuição gaussiana centrada em $\\mu_X = 5$ e com variância $\\sigma_X^2 = 2$"
      ]
    },
    {
      "cell_type": "code",
      "execution_count": null,
      "id": "f089b369",
      "metadata": {
        "colab": {
          "base_uri": "https://localhost:8080/",
          "height": 295
        },
        "id": "f089b369",
        "outputId": "12ff7620-4d47-4a20-b899-22e47536258b"
      },
      "outputs": [
        {
          "output_type": "display_data",
          "data": {
            "text/plain": [
              "<Figure size 432x288 with 1 Axes>"
            ],
            "image/png": "[encoded data removed]"
          },
          "metadata": {
            "needs_background": "light"
          }
        }
      ],
      "source": [
        "bel = norm.pdf(centroides, loc=5, scale=np.sqrt(2))\n",
        "bel[:] = bel[:]/bel.sum()\n",
        "\n",
        "show_belief(bel)"
      ]
    },
    {
      "cell_type": "markdown",
      "id": "31a79bc5-e750-4bf8-9498-cd9855bb0662",
      "metadata": {
        "id": "31a79bc5-e750-4bf8-9498-cd9855bb0662"
      },
      "source": [
        "### Modelo de sensor\n",
        "\n",
        "Vamos também supor que dispomos de um **sensor imperfeito** que nos fornece a posição do robô com erro modelado por uma variável gaussiana com média 0 e variância $\\sigma^2$:\n",
        "$$\n",
        "    p(y|X_t=x) = \\mathcal{N}(x, \\sigma^2) .\n",
        "$$\n",
        "\n",
        "Note que agora tanto a variável de estado quanto a variável de observação são contínuas e, portanto, suas variáveis aleatórias possuem funções de densidades associadas (ao invés de distribuições de massa de probabilidades)."
      ]
    },
    {
      "cell_type": "code",
      "execution_count": null,
      "id": "5bbcf928-3ce1-414c-95e1-eaba2d5d88d0",
      "metadata": {
        "id": "5bbcf928-3ce1-414c-95e1-eaba2d5d88d0"
      },
      "outputs": [],
      "source": [
        "sigma2 = 1.5\n",
        "\n",
        "def sensor(y, x): \n",
        "    ''' Return p(y|X=x). '''\n",
        "    return norm.pdf(y, loc=x, scale=np.sqrt(sigma2))"
      ]
    },
    {
      "cell_type": "markdown",
      "id": "568daa58-0cd6-44fe-ae0b-52807331f3e9",
      "metadata": {
        "id": "568daa58-0cd6-44fe-ae0b-52807331f3e9"
      },
      "source": [
        "Por exemplo, quando estamos em $X_t = 2$, nosso sensor retorna valores de acordo com a função de densidade abaixo"
      ]
    },
    {
      "cell_type": "code",
      "execution_count": null,
      "id": "62827ca3-991b-4752-998e-e02b2ead8f56",
      "metadata": {
        "colab": {
          "base_uri": "https://localhost:8080/",
          "height": 295
        },
        "id": "62827ca3-991b-4752-998e-e02b2ead8f56",
        "outputId": "a1ce5ed3-2303-4589-b464-e5cfb2fd7e70"
      },
      "outputs": [
        {
          "output_type": "display_data",
          "data": {
            "text/plain": [
              "<Figure size 432x288 with 1 Axes>"
            ],
            "image/png": "[encoded data removed]"
          },
          "metadata": {
            "needs_background": "light"
          }
        }
      ],
      "source": [
        "yspace = np.linspace(-1.5, 5.5, 100)\n",
        "plt.plot(yspace, [sensor(y,2) for y in yspace], 'r-', lw=5, alpha=0.6);\n",
        "plt.ylabel('p(y|X=2)');\n",
        "plt.xlabel('y');\n",
        "plt.title('Modelo do sensor');"
      ]
    },
    {
      "cell_type": "markdown",
      "id": "f960917d-3908-4078-a058-ded189042caf",
      "metadata": {
        "id": "f960917d-3908-4078-a058-ded189042caf"
      },
      "source": [
        "### Correção\n",
        "\n",
        "A atualização da crença para uma observação $Y_t=y$ é dada por:\n",
        "\n",
        "$$\n",
        "\\begin{align}\n",
        "    \\text{bel}_{t+1}(x) &= p(x|y) \\\\\n",
        "    & = \\frac{p(y | x)\\text{bel}_t(x)}{p(y)} \\\\\n",
        "    & = \\eta p(y|x) \\sum_{c=1}^N w_{c,t}  \\delta(x-x_c) ,\n",
        "\\end{align}\n",
        "$$\n",
        "onde $\\eta$ é uma constante de normalização. \n",
        "Pela definição da função de Dirac, a equação acima é nula para qualquer estado diferente de um centróide, $x \\neq x_c$. E para um centróide $x=x_c$, a equação se torna\n",
        "$$\n",
        "\\text{bel}_{t+1}(x_c) = \\eta p(y|x_c) w_{c,t} .\n",
        "$$\n",
        "A nova crença portanto tem a mesma forma anterior:\n",
        "$$\n",
        "    \\text{bel}_{t+1}(x) = \\sum_{c=1}^N w_{c,t+1}  \\delta(x-x_c) ,\n",
        "$$\n",
        "com os novos pesos calculados por\n",
        "$$\n",
        "w_{c,t+1} = \\eta p(y|x_c) w_{c,t}\n",
        "$$\n",
        "e\n",
        "$$\n",
        " \\eta = \\sum_{c=1}^N  p(y|x) w_{c,t} .\n",
        "$$\n",
        "Note que do ponto de vista computacional, a atualização é similar ao filtro bayesiano discreto: computamos o produto ponto-a-ponto da crença antiga pelo modelo de sensor em cada centróide e renormalizamos o vetor resultante. "
      ]
    },
    {
      "cell_type": "code",
      "execution_count": null,
      "id": "f614e9bb-c9f8-4e81-a3fb-ea800bdb1afc",
      "metadata": {
        "id": "f614e9bb-c9f8-4e81-a3fb-ea800bdb1afc"
      },
      "outputs": [],
      "source": [
        "def correct(b, y):\n",
        "    ''' Update belief vector b given observation y -- Calls sensor model sensor(y) = p(Y=y|x).  '''\n",
        "    tilde_bel = np.array([sensor(y,x) for x in centroides]).T # p(Y=y|X=x)\n",
        "    tilde_bel *= b # bel(X) * p(y|X)\n",
        "    # normaliza e atualiza vetor de crença\n",
        "    b[:] = tilde_bel/np.sum(tilde_bel) "
      ]
    },
    {
      "cell_type": "markdown",
      "id": "ec2a2fe7-7c2e-4b15-837d-eb69a5c8d9e9",
      "metadata": {
        "id": "ec2a2fe7-7c2e-4b15-837d-eb69a5c8d9e9"
      },
      "source": [
        "Vamos testar o algoritmo supondo uma observação de $y=0.9$"
      ]
    },
    {
      "cell_type": "code",
      "execution_count": null,
      "id": "f7f0d3c9-dd7c-4de0-8428-fd5e218da3d5",
      "metadata": {
        "colab": {
          "base_uri": "https://localhost:8080/",
          "height": 295
        },
        "id": "f7f0d3c9-dd7c-4de0-8428-fd5e218da3d5",
        "outputId": "e33887fc-b72f-4108-a167-5a96dbed2af2"
      },
      "outputs": [
        {
          "output_type": "display_data",
          "data": {
            "text/plain": [
              "<Figure size 432x288 with 1 Axes>"
            ],
            "image/png": "[encoded data removed]"
          },
          "metadata": {
            "needs_background": "light"
          }
        }
      ],
      "source": [
        "# observa Y=0.9\n",
        "\n",
        "correct(bel, 0.9)\n",
        "\n",
        "show_belief(bel) "
      ]
    },
    {
      "cell_type": "markdown",
      "id": "1f3d38d3-beca-4250-a262-ef618b15542b",
      "metadata": {
        "id": "1f3d38d3-beca-4250-a262-ef618b15542b"
      },
      "source": [
        "Note como a nova crença se concentra ao redor do valor medido, reflentindo uma redução da incerteza (entropia) da estimação de estado."
      ]
    },
    {
      "cell_type": "markdown",
      "id": "194e9af8-157f-4bcf-98a2-c14d19265f5a",
      "metadata": {
        "tags": [],
        "id": "194e9af8-157f-4bcf-98a2-c14d19265f5a"
      },
      "source": [
        "### Modelo de transição\n",
        "\n",
        "Para o modelo de transição, vamos assumir que o robô executa uma ação de se mover $u$ unidades em um intervalo $[-1,1]$, resultando no seguinte estado:\n",
        "$$\n",
        "  x_{t+1} = x_t + u + k*u*\\epsilon ,\n",
        "$$\n",
        "\n",
        "com $\\epsilon$ sendo uma variável gaussiana com média 0 e variância 1. A constante $k$ regula a variância da imprecisão do movimento. A função de densidade da transição é portanto dada por\n",
        "$$\n",
        "p(x_{t+1} | x_t, u) = \\mathcal{N}(x_t + u, k^2 u^2) .\n",
        "$$"
      ]
    },
    {
      "cell_type": "code",
      "execution_count": null,
      "id": "e55495ce-2fa3-4be1-b46b-0bfe73dea1ec",
      "metadata": {
        "colab": {
          "base_uri": "https://localhost:8080/"
        },
        "id": "e55495ce-2fa3-4be1-b46b-0bfe73dea1ec",
        "outputId": "d5fd058e-3c5a-420f-b62a-321abd6d35e5"
      },
      "outputs": [
        {
          "output_type": "execute_result",
          "data": {
            "text/plain": [
              "4.016582266769207"
            ]
          },
          "metadata": {},
          "execution_count": 62
        }
      ],
      "source": [
        "k = 1.0 # regula variância no movimento\n",
        "\n",
        "x = 3 # estado atual\n",
        "\n",
        "u = 0.9 # move-se 0.9 unidades para direita\n",
        "\n",
        "e = np.random.normal() # erro de imprecisão\n",
        "x = x + u + k*u*e # novo estado\n",
        "\n",
        "x"
      ]
    },
    {
      "cell_type": "markdown",
      "id": "91683e54-9847-4b7b-acfd-85f65d2db0e4",
      "metadata": {
        "id": "91683e54-9847-4b7b-acfd-85f65d2db0e4"
      },
      "source": [
        "### Predição\n",
        "\n",
        "A etapa de atualização da crença para uma dada ação $u$ é obtida por:\n",
        "$$\n",
        "\\begin{align}\n",
        "  \\text{bel}_{t+1}(x') &= \\int_{-\\infty}^{\\infty} p(x' | X_t=x, u) \\text{bel}_t(x) dx \\\\\n",
        "  & = \\int_{-\\infty}^{\\infty} p(x' | X_t=x, u) \\sum_{c} w_{c,t} \\delta(x-x_c) dx \\\\\n",
        "  & =   \\sum_{c} w_{c,t} \\int_{-\\infty}^{\\infty} p(x' | X_t=x, u) \\delta(x-x_c) dx \\\\\n",
        "  & =  \\sum_{c} w_{c,t} p(x' | X_t=x_c, u).\n",
        "\\end{align}\n",
        "$$\n",
        "Note que a equação acima atribui densidade a qualquer ponto $x'$ do espaço, violando nossa hipótese inicial (ou seja, a forma funcional do filtro não é fechada sobre a operação de predição acima). Para recuperarmos a propriedade inicial, vamos impor que\n",
        "$$\n",
        "\\text{bel}_{t+1}(x') = \\sum_{c=1}^N w_{c,t+1} \\delta(x-x_c) .\n",
        "$$\n",
        "Igualando as duas equações temos que:\n",
        "$$\n",
        "w_{c',t+1} = \\sum_{c=1}^N w_{c,t} p(x_{c'} | X_t=x_c, u) .\n",
        "$$\n",
        "Ou seja, cada novo peso é a convolução da crença anterior e da função de transição. Note que a função de transição dentro da soma acima é calculada apenas para os centróides. Dessa forma, podemos representá-la por uma matriz $T$ de tamanho $N$-por-$N$ tal que $T(x_i,x_j) = p(x_i|x_j,u)$. Para garantirmos que os novos pesos $w_{c'}$ somem um, é suficiente que as colunas de $T$ somem um. Dessa forma, obtemos a mesma representação do filtro bayesiano discreto e computamos a nova crença $w_{\\cdot,t+1}$ (novos pesos) como o produto matricial da matriz de transição $T$ e a crença antiga (pesos antigos) $w_{\\cdot, t}$. A única diferença aqui, é que precisamos construir a matriz a partir do valor $u$ dado, dado que $u$ é contínuo.\n",
        "\n",
        "Tal similaridade com o filtro bayesiano discreto não é acidental. De fato, outra maneira de derivar o filtro de histograma é considerar uma discretização do espaço de estados em células nas quais a densidade é constante é possui valor proporcional ao da densidade no centróide. Nesse caso, os pesos $w_c$ são interpretados como a probabilidade do estado pertencer à região $c$, e as integrais são substituídas por somas como no filtro bayesiano discreto."
      ]
    },
    {
      "cell_type": "code",
      "execution_count": null,
      "id": "2a833c97-ac55-4f75-bfeb-1565b3486962",
      "metadata": {
        "id": "2a833c97-ac55-4f75-bfeb-1565b3486962"
      },
      "outputs": [],
      "source": [
        "T = np.zeros((N,N)) # vamos criar uma matriz global para poupar recursos\n",
        "\n",
        "def compute_transition_matrix(u):\n",
        "    ''' Update transition matrix representing T[i,j] = p(X[t+1] = xi | X[t] = xj, U = u). '''\n",
        "    for j in range(N):\n",
        "        T[:,j] = norm.pdf(centroides, loc=centroides[j]+u, scale=abs(k*u))\n",
        "        T[:,j] /= T[:,j].sum()"
      ]
    },
    {
      "cell_type": "code",
      "execution_count": null,
      "id": "19dc57e4-74a1-49bb-8b50-0deeed4e32d3",
      "metadata": {
        "id": "19dc57e4-74a1-49bb-8b50-0deeed4e32d3"
      },
      "outputs": [],
      "source": [
        "def predict(b, u):\n",
        "    ''' Update belief given action u. '''\n",
        "    # First we update the transition matrix with the given control value\n",
        "    compute_transition_matrix(u)\n",
        "    # Now we update the belief weights\n",
        "    b[:] = T @ b"
      ]
    },
    {
      "cell_type": "markdown",
      "id": "01ca0512-a82d-4ba3-8f3e-b6713aa74750",
      "metadata": {
        "id": "01ca0512-a82d-4ba3-8f3e-b6713aa74750"
      },
      "source": [
        "Vamos testar para uma ação $u=2$, com nossa crença inicial distribuída aproximadamente gaussiana com centro em $x=2$"
      ]
    },
    {
      "cell_type": "code",
      "execution_count": null,
      "id": "bfa08d34-8d15-446f-a54f-7f1de19ff322",
      "metadata": {
        "colab": {
          "base_uri": "https://localhost:8080/",
          "height": 295
        },
        "id": "bfa08d34-8d15-446f-a54f-7f1de19ff322",
        "outputId": "e527299c-4ecc-4d64-e3cb-af212f299c89"
      },
      "outputs": [
        {
          "output_type": "display_data",
          "data": {
            "text/plain": [
              "<Figure size 432x288 with 1 Axes>"
            ],
            "image/png": "[encoded data removed]"
          },
          "metadata": {
            "needs_background": "light"
          }
        }
      ],
      "source": [
        "u = 2\n",
        "\n",
        "bel = norm.pdf(centroides, loc=2, scale=np.sqrt(2))\n",
        "bel[:] = bel[:]/bel.sum()\n",
        "\n",
        "show_belief(bel)\n",
        "\n",
        "predict(bel, u)\n",
        "\n",
        "show_belief(bel)"
      ]
    },
    {
      "cell_type": "code",
      "execution_count": null,
      "id": "3508568a-978b-47f5-a9cc-ec5b4550f8f7",
      "metadata": {
        "colab": {
          "base_uri": "https://localhost:8080/"
        },
        "id": "3508568a-978b-47f5-a9cc-ec5b4550f8f7",
        "outputId": "fa569836-c903-4f5d-abc4-1d9455345aa2"
      },
      "outputs": [
        {
          "output_type": "execute_result",
          "data": {
            "text/plain": [
              "(True, True)"
            ]
          },
          "metadata": {},
          "execution_count": 66
        }
      ],
      "source": [
        "# Consistência\n",
        "\n",
        "bel.min() >= 0, np.allclose(1,bel.sum())"
      ]
    },
    {
      "cell_type": "markdown",
      "id": "e99c4174-955c-490f-959f-2d623560749c",
      "metadata": {
        "id": "e99c4174-955c-490f-959f-2d623560749c"
      },
      "source": [
        "Note que a crença sobre o estado se desloca 2 unidades para a direita e se \"dilue\", refeltindo o aumento na incerteza (entropia) da estimação de estado. Se dermos um passo menor, o aumento na incerteza é menor, como especificado pelo modelo de transição."
      ]
    },
    {
      "cell_type": "code",
      "execution_count": null,
      "id": "ed79fbbe-2050-488c-96fc-4a18a5ddb59e",
      "metadata": {
        "colab": {
          "base_uri": "https://localhost:8080/",
          "height": 295
        },
        "id": "ed79fbbe-2050-488c-96fc-4a18a5ddb59e",
        "outputId": "4ca22ee4-0535-48f9-fe56-29b93d812cc8"
      },
      "outputs": [
        {
          "output_type": "display_data",
          "data": {
            "text/plain": [
              "<Figure size 432x288 with 1 Axes>"
            ],
            "image/png": "[encoded data removed]"
          },
          "metadata": {
            "needs_background": "light"
          }
        }
      ],
      "source": [
        "u = 1\n",
        "\n",
        "bel = norm.pdf(centroides, loc=2, scale=np.sqrt(2))\n",
        "bel[:] = bel[:]/bel.sum()\n",
        "\n",
        "show_belief(bel)\n",
        "\n",
        "predict(bel, u)\n",
        "\n",
        "show_belief(bel)"
      ]
    },
    {
      "cell_type": "code",
      "execution_count": null,
      "id": "8a8f8865-78eb-46fe-9f18-14a864478744",
      "metadata": {
        "colab": {
          "base_uri": "https://localhost:8080/"
        },
        "id": "8a8f8865-78eb-46fe-9f18-14a864478744",
        "outputId": "ee0ae7a0-41f8-4118-b680-861920d1cf4a"
      },
      "outputs": [
        {
          "output_type": "execute_result",
          "data": {
            "text/plain": [
              "(True, True)"
            ]
          },
          "metadata": {},
          "execution_count": 68
        }
      ],
      "source": [
        "# Consistência\n",
        "\n",
        "bel.min() >= 0, np.allclose(1,bel.sum())"
      ]
    },
    {
      "cell_type": "markdown",
      "id": "0b266c01-9eb6-452f-8bfb-0b127dfa2d47",
      "metadata": {
        "id": "0b266c01-9eb6-452f-8bfb-0b127dfa2d47"
      },
      "source": [
        "Agora, se observamos $Y=3$, nossa incerteza sobre o estado diminui:"
      ]
    },
    {
      "cell_type": "code",
      "execution_count": null,
      "id": "531629d6-3694-4d49-a446-d9aca556716f",
      "metadata": {
        "colab": {
          "base_uri": "https://localhost:8080/",
          "height": 295
        },
        "id": "531629d6-3694-4d49-a446-d9aca556716f",
        "outputId": "5ec25221-925a-47d2-9bf0-ef18b8ccb45b"
      },
      "outputs": [
        {
          "output_type": "display_data",
          "data": {
            "text/plain": [
              "<Figure size 432x288 with 1 Axes>"
            ],
            "image/png": "[encoded data removed]"
          },
          "metadata": {
            "needs_background": "light"
          }
        }
      ],
      "source": [
        "# observa Y=3\n",
        "\n",
        "show_belief(bel) \n",
        "\n",
        "correct(bel, 3.0)\n",
        "\n",
        "show_belief(bel) "
      ]
    },
    {
      "cell_type": "markdown",
      "id": "50d9297d-14b4-410a-83eb-6904baeb00c5",
      "metadata": {
        "id": "50d9297d-14b4-410a-83eb-6904baeb00c5"
      },
      "source": [
        "Para repassarmos a estimação de estado para um controlador, precisamos produzir um valor representativo ou estatística da distribuição. Novamente, vamos ver as duas formas mais comuns: moda e média."
      ]
    },
    {
      "cell_type": "code",
      "execution_count": null,
      "id": "201ce7eb-44b4-474a-8597-294ebdd53a0f",
      "metadata": {
        "id": "201ce7eb-44b4-474a-8597-294ebdd53a0f"
      },
      "outputs": [],
      "source": [
        "def get_mode(b):\n",
        "    ''' Extract most probable belief state. '''\n",
        "    i = np.argmax(b) # distribution mode\n",
        "    return centroides[i]\n",
        "\n",
        "def get_mean(b):\n",
        "    ''' Extract mean belief state value. '''\n",
        "    return (centroides*b).sum()"
      ]
    },
    {
      "cell_type": "code",
      "execution_count": null,
      "id": "ca03d2df-6a79-4282-9f78-07637542eba9",
      "metadata": {
        "colab": {
          "base_uri": "https://localhost:8080/"
        },
        "id": "ca03d2df-6a79-4282-9f78-07637542eba9",
        "outputId": "cf6dcb12-ee61-4f03-9240-2b0ca800d533"
      },
      "outputs": [
        {
          "output_type": "stream",
          "name": "stdout",
          "text": [
            "Mode state: 3.3333333333333335\n",
            "Mean state: 3.005807584798347\n"
          ]
        }
      ],
      "source": [
        "x = get_mode(bel)\n",
        "print('Mode state:', x)\n",
        "x = get_mean(bel)\n",
        "print('Mean state:', x)"
      ]
    },
    {
      "cell_type": "markdown",
      "id": "f32caf20",
      "metadata": {
        "id": "f32caf20"
      },
      "source": [
        "A média é mais adequada quando a distribuição é unimodal (possui apenas um pico) e relativamente simétrica. A moda é mais indicada para distribuições multimodais (vários picos), muito assimétricas ou quando desejamos robustez à anomalias (observações incomuns com baixa probabilidade)."
      ]
    },
    {
      "cell_type": "markdown",
      "id": "0465911a-3518-4811-870c-8595103eeb0b",
      "metadata": {
        "id": "0465911a-3518-4811-870c-8595103eeb0b"
      },
      "source": [
        "## 💡 Exercício 1\n",
        "\n",
        "Nossa derivação do filtro de histograma em duas etapas, correção e predição, é desnecessária e ineficiente. Na prática, atualizamos a crença em cada ciclo de atualização do robô, considerando a distância percorrida (velocidade vezes tempo decorrido) e obtendo uma observação.\n",
        "\n",
        "Escreva a função `update` condensando as duas etapas em uma só. Note que só precisamos normalizar os pesos ao final. Use sua função para simular um robô tomando ações aleatórias $u \\in [-1,1]$ e observações uniformes $z \\in [x-1, x+1]$."
      ]
    },
    {
      "cell_type": "code",
      "execution_count": null,
      "id": "4c087459-dc6b-417c-88e2-7b2eec014bcc",
      "metadata": {
        "id": "4c087459-dc6b-417c-88e2-7b2eec014bcc"
      },
      "outputs": [],
      "source": [
        "def update(b, z, u):\n",
        "    ''' Updates belief weights b with observation z and action u. '''\n",
        "    # TODO\n",
        "\n",
        "    compute_transition_matrix(u)\n",
        "\n",
        "    tilde_bel = np.array([sensor(z,x) for x in centroides]).T # p(Y=y|X=x)\n",
        "    tilde_bel *= b # bel(X) * p(y|X)\n",
        "\n",
        "    # normaliza e atualiza vetor de crença\n",
        "    b[:] = T @ tilde_bel\n",
        "    b[:] /= np.sum(tilde_bel) \n"
      ]
    },
    {
      "cell_type": "code",
      "execution_count": null,
      "id": "100306ea-e4c8-49cc-86f3-5699f0fef097",
      "metadata": {
        "id": "100306ea-e4c8-49cc-86f3-5699f0fef097",
        "colab": {
          "base_uri": "https://localhost:8080/"
        },
        "outputId": "0c5d0de8-64a8-4552-fcdb-cf076a5870c9"
      },
      "outputs": [
        {
          "output_type": "stream",
          "name": "stdout",
          "text": [
            "**Initial States**\n",
            "x:  5\n",
            "Mode state: 4.444444444444445\n",
            "Mean state: 5.000000000000001\n",
            "*************************************************************************\n",
            "x: 4.898253561226878   u: -0.1682523567259906   z: 4.304334610920352\n",
            "Mode state: 4.444444444444445\n",
            "Mean state: 4.602468216329181\n",
            "*************************************************************************\n",
            "x: 5.342388922367973   u: -0.9026621633959331   z: 4.633337276897139\n",
            "Mode state: 3.3333333333333335\n",
            "Mean state: 3.7104108647238783\n",
            "*************************************************************************\n",
            "x: 5.520911330024402   u: 0.1014643046803334   z: 6.27316141693229\n",
            "Mode state: 4.444444444444445\n",
            "Mean state: 4.931352284260835\n",
            "*************************************************************************\n",
            "x: 5.621973914538307   u: 0.07115177325649658   z: 5.9032704849530235\n",
            "Mode state: 5.555555555555555\n",
            "Mean state: 5.2488859120433595\n",
            "*************************************************************************\n",
            "x: 5.255153562703171   u: -0.2767185911356542   z: 4.699329516788726\n",
            "Mode state: 5.555555555555555\n",
            "Mean state: 5.102221382389268\n",
            "*************************************************************************\n",
            "x: 5.300874416274411   u: -0.7357466227893474   z: 5.615586274982415\n",
            "Mode state: 4.444444444444445\n",
            "Mean state: 4.49596797783392\n",
            "*************************************************************************\n",
            "x: 5.24726938390314   u: -0.16034508272716264   z: 5.746012071789098\n",
            "Mode state: 4.444444444444445\n",
            "Mean state: 4.960035155244297\n",
            "*************************************************************************\n",
            "x: 4.822539527813791   u: -0.29922758623162227   z: 4.492198223509269\n",
            "Mode state: 4.444444444444445\n",
            "Mean state: 4.79624185829297\n",
            "*************************************************************************\n",
            "x: 5.037408349848023   u: -0.9478662528784461   z: 5.795142763960266\n",
            "Mode state: 4.444444444444445\n",
            "Mean state: 4.092436572881679\n",
            "*************************************************************************\n",
            "x: 4.9877375264138255   u: -0.0610848233085286   z: 4.907032317720626\n",
            "Mode state: 4.444444444444445\n",
            "Mean state: 4.472267092348552\n",
            "*************************************************************************\n",
            "x: 5.502322970938625   u: -0.6000879587732812   z: 6.429677406731752\n",
            "Mode state: 4.444444444444445\n",
            "Mean state: 4.484049850330334\n",
            "*************************************************************************\n",
            "x: 5.809837715164737   u: 0.9917891034795068   z: 5.781626242862915\n",
            "Mode state: 5.555555555555555\n",
            "Mean state: 5.9595282939836824\n",
            "*************************************************************************\n",
            "x: 7.092273805418581   u: 0.41969777160964394   z: 7.929280905325017\n",
            "Mode state: 6.666666666666667\n",
            "Mean state: 7.280886851272776\n",
            "*************************************************************************\n",
            "x: 8.220207427533285   u: 0.6586241439454266   z: 9.039899138109766\n",
            "Mode state: 8.88888888888889\n",
            "Mean state: 8.62277681643494\n",
            "*************************************************************************\n",
            "x: 8.746732527811083   u: 0.39468187949017186   z: 9.031567119097458\n",
            "Mode state: 8.88888888888889\n",
            "Mean state: 9.036162685240406\n",
            "*************************************************************************\n",
            "x: 8.643057301552213   u: -0.24330060954594934   z: 8.240501437182084\n",
            "Mode state: 8.88888888888889\n",
            "Mean state: 8.79343805278013\n",
            "*************************************************************************\n",
            "x: 7.881818629803311   u: -0.5034470128406066   z: 8.707377820618893\n",
            "Mode state: 8.88888888888889\n",
            "Mean state: 8.28671416482751\n",
            "*************************************************************************\n",
            "x: 8.222239481079642   u: 0.13655691640543233   z: 8.86095179451679\n",
            "Mode state: 8.88888888888889\n",
            "Mean state: 8.490256770364837\n",
            "*************************************************************************\n",
            "x: 8.503360088717384   u: 0.35372904359619883   z: 9.464695696126856\n",
            "Mode state: 8.88888888888889\n",
            "Mean state: 8.884616294186717\n",
            "*************************************************************************\n",
            "x: 8.127915783974391   u: -0.2915816253558996   z: 8.13625975259156\n",
            "Mode state: 8.88888888888889\n",
            "Mean state: 8.685786108326372\n",
            "*************************************************************************\n"
          ]
        }
      ],
      "source": [
        "x = 5 # estado inicial -- atualize estado com valor \"verdadeiro\" para produzir observação\n",
        "\n",
        "bel = norm.pdf(centroides, loc=5, scale=np.sqrt(2))\n",
        "bel[:] = bel[:]/bel.sum()\n",
        "\n",
        "k = 1.0 \n",
        "\n",
        "print(\"**Initial States**\")\n",
        "print(\"x: \", x)\n",
        "mode = get_mode(bel)\n",
        "print('Mode state:', mode)\n",
        "mean = get_mean(bel)\n",
        "print('Mean state:', mean)\n",
        "print(\"*************************************************************************\")\n",
        "for i in range(20):\n",
        "  u = 2*np.random.random()-1 # Para gerar valor aleatório em [-1,1]\n",
        "  e = np.random.normal() \n",
        "  x = x + u + k*u*e #atualiza posição\n",
        "  z = x + 2*np.random.random()-1\n",
        "  update(bel, z, u)\n",
        "  print(\"x:\", x, \"  u:\", u, \"  z:\", z)\n",
        "  mode = get_mode(bel)\n",
        "  print('Mode state:', mode)\n",
        "  mean = get_mean(bel)\n",
        "  print('Mean state:', mean)\n",
        "  print(\"*************************************************************************\")"
      ]
    },
    {
      "cell_type": "code",
      "execution_count": null,
      "id": "68ac699b-6dd0-44e4-a01d-9e0c6d20cecc",
      "metadata": {
        "colab": {
          "base_uri": "https://localhost:8080/"
        },
        "id": "68ac699b-6dd0-44e4-a01d-9e0c6d20cecc",
        "outputId": "dc2ca244-114b-419d-e21d-ecf5d215dfbe"
      },
      "outputs": [
        {
          "output_type": "execute_result",
          "data": {
            "text/plain": [
              "(8.127915783974391, -0.2915816253558996, 8.13625975259156)"
            ]
          },
          "metadata": {},
          "execution_count": 74
        }
      ],
      "source": [
        "x, u, z"
      ]
    },
    {
      "cell_type": "markdown",
      "metadata": {
        "id": "E9NTdFM9eTvo"
      },
      "source": [
        "## 💡 Exercício 2\n",
        "\n",
        "Implemente agora um filtro de histograma 3D para um agente que se move por direção diferencial 2D com imprecisão nos atuadores, guiados por sinais de controle de velocidade angulares das rodas $u = \\begin{bmatrix} \\dot{\\varphi}_l & \\dot{\\varphi}_r \\end{bmatrix}^t$. Vamos assumir que o agente possui um sensor imperfeito que lhe permite medir sua pose ($x,y,\\theta$) a qualquer instante. A função de transição do robô é dada por\n",
        "$$\n",
        "\\begin{bmatrix}\n",
        " \\dot{x}_A \\\\ \\dot{y}_A \\\\ \\dot{\\theta}\n",
        "\\end{bmatrix}= \n",
        "\\frac{R}{2}\n",
        "\\begin{bmatrix}\n",
        "\\cos \\theta & 0 \\\\ \n",
        "\\sin \\theta & 0 \\\\ \n",
        "0 & 1\n",
        "\\end{bmatrix}\n",
        "\\begin{bmatrix}\n",
        "1 & 1 \\\\ \\frac{1}{L} & -\\frac{1}{L}\n",
        "\\end{bmatrix}\n",
        "\\begin{bmatrix}\n",
        "\\dot{\\varphi}_l \\\\ \\dot{\\varphi}_r\n",
        "\\end{bmatrix}\n",
        "$$\n",
        "exceto que $\\dot{\\varphi}_l$ e $\\dot{\\varphi}_r$ são medidas com alguma imprecisão.\n"
      ],
      "id": "E9NTdFM9eTvo"
    },
    {
      "cell_type": "code",
      "execution_count": null,
      "id": "cec36759-9005-40d8-bdc9-159fdc956ebf",
      "metadata": {
        "colab": {
          "base_uri": "https://localhost:8080/"
        },
        "id": "cec36759-9005-40d8-bdc9-159fdc956ebf",
        "outputId": "f1b687d2-3524-44db-d3ed-49d712d2e425"
      },
      "outputs": [
        {
          "output_type": "stream",
          "name": "stdout",
          "text": [
            "X[t=0.0] =  [0. 0. 0.]\n",
            "X[t=0.1] =  [0.01888119 0.         0.03798246]\n",
            "Z[t=0.1] =  [0.05985185 0.04097066 0.07895312]\n",
            "X[t=0.2] =  [ 1.53809782e-02 -1.33010441e-04  4.27828989e-01]\n",
            "Z[t=0.2] =  [-0.03097245 -0.04648644  0.38147556]\n"
          ]
        }
      ],
      "source": [
        "from DifferentialDrive import DifferentialRobot2\n",
        "\n",
        "robot = DifferentialRobot2()\n",
        "print(\"X[t=0.0] = \", robot.x) # pose inicial [x, y, heading]\n",
        "# move adiante com velocidade constante por 0,1s [ phi_l = phi_r = 5]\n",
        "robot.forward(5, 5) \n",
        "# mostra pose \n",
        "print(\"X[t=0.1] = \", robot.x)\n",
        "# medir pose\n",
        "z = robot.perceive() # recebe medida de sensor \n",
        "print(\"Z[t=0.1] = \", z)\n",
        "# rodar no eixo com velocidade angular constante por 0,1s [phi_l = -phi_l = -5]\n",
        "robot.forward(-5, 5) \n",
        "# mostra apose\n",
        "print(\"X[t=0.2] = \", robot.x)\n",
        "# medir pose\n",
        "z = robot.perceive() # recebe medida de sensor \n",
        "print(\"Z[t=0.2] = \", z)"
      ]
    },
    {
      "cell_type": "code",
      "execution_count": null,
      "id": "3134cf03",
      "metadata": {
        "colab": {
          "base_uri": "https://localhost:8080/",
          "height": 513
        },
        "id": "3134cf03",
        "outputId": "56a9bb92-31e8-42c4-abf5-46c98b31ebc3"
      },
      "outputs": [
        {
          "output_type": "display_data",
          "data": {
            "text/plain": [
              "<Figure size 504x504 with 4 Axes>"
            ],
            "image/png": "[encoded data removed]"
          },
          "metadata": {
            "needs_background": "light"
          }
        }
      ],
      "source": [
        "# Exemplo de simulação da trajetória do robô executando um movimento circular\n",
        "for _ in range(80): \n",
        "    robot.forward(5, 7)\n",
        "# plot trajectory\n",
        "robot.plot();"
      ]
    },
    {
      "cell_type": "markdown",
      "id": "eb291a0f",
      "metadata": {
        "id": "eb291a0f"
      },
      "source": [
        "Construa um estimador de estado para o robô diferencial, usando um modelo simples de transição com erros gaussianos independentes para cada sinal de controle $\\phi_l$ e $\\phi_r$ e erro gaussiano para o sensor $z=[x,y,\\theta]$. Compare o estado estimado pela média e moda através do erro quadrático médio em relação ao estado real (`robot.x`). Note que você não deve usar o valor real do estado, disponível pela variável `robot.x`, no cálculo de estimação de estado, afinal esse valor indica uma quantidade não observável em um robô real. Note também que sua função de crença agora possui domínio $\\mathbb{R}^3$. Você deve estipular a região de suporte da crença de maneira adequada para representar os estados relevantes (se baseie pela figura acima)."
      ]
    },
    {
      "cell_type": "code",
      "execution_count": null,
      "id": "3b2fd43a",
      "metadata": {
        "colab": {
          "base_uri": "https://localhost:8080/"
        },
        "id": "3b2fd43a",
        "outputId": "d4de520b-c1b6-4068-f9a6-229bb099ba6e"
      },
      "outputs": [
        {
          "output_type": "stream",
          "name": "stdout",
          "text": [
            "[[ 0.2286]\n",
            " [ 0.    ]\n",
            " [-0.381 ]]\n",
            "[[ 0.2286]\n",
            " [ 0.    ]\n",
            " [-0.381 ]]\n",
            "[[ 0.2286]\n",
            " [ 0.    ]\n",
            " [-0.381 ]]\n",
            "[[ 0.2286]\n",
            " [ 0.    ]\n",
            " [-0.381 ]]\n",
            "[[ 0.2286]\n",
            " [ 0.    ]\n",
            " [-0.381 ]]\n",
            "[[ 0.2286]\n",
            " [ 0.    ]\n",
            " [-0.381 ]]\n",
            "[[ 0.2286]\n",
            " [ 0.    ]\n",
            " [-0.381 ]]\n",
            "[[ 0.2286]\n",
            " [ 0.    ]\n",
            " [-0.381 ]]\n",
            "[[ 0.2286]\n",
            " [ 0.    ]\n",
            " [-0.381 ]]\n",
            "[[ 0.2286]\n",
            " [ 0.    ]\n",
            " [-0.381 ]]\n"
          ]
        }
      ],
      "source": [
        "from DifferentialDrive import DifferentialRobot2\n",
        "\n",
        "min, max = 0, 10\n",
        "ang_min, ang_max = 0, 2*np.pi\n",
        "\n",
        "size = 10\n",
        "\n",
        "centroides_x = np.linspace(min,max,size)\n",
        "centroides_y = np.linspace(min,max,size)\n",
        "ang = np.linspace(ang_min,ang_max,size)\n",
        "\n",
        "def get_mode(b):\n",
        "  ''' EXTRACT MOST PROBABLE BELIEF STATE'''\n",
        "  more_index = []\n",
        "\n",
        "def estimate_next_position(robot, curr):\n",
        "  matrix1= np.matrix([[np.cos(curr[2]), 0.0],\n",
        "             [np.sin(curr[2]), 0.0],\n",
        "             [0.0, 1.0]])\n",
        "  \n",
        "  matrix2 = np.matrix([[1.0, 1.0],\n",
        "                       [1/robot.wheel_base, -1/robot.wheel_base]])\n",
        "  \n",
        "  return ((robot.wheel_radius/2)*matrix1 @ matrix2 @ np.array([5,7]).T).T\n",
        "\n",
        "def simulation(n):\n",
        "  robot = DifferentialRobot2()\n",
        "  curr = robot.x\n",
        "\n",
        "  #initial bel\n",
        "  bel = np.zeros(shape=(3, size), dtype=\"float32\")\n",
        "  bel[0][0] = bel[1][0] = bel[2][0] = 1\n",
        "\n",
        "  for i in range(n):\n",
        "    dev = estimate_next_position(robot, curr)\n",
        "    print(dev)\n",
        "\n",
        "\n",
        "simulation(10)"
      ]
    }
  ],
  "metadata": {
    "kernelspec": {
      "display_name": "Python 3.10.8 64-bit",
      "language": "python",
      "name": "python3"
    },
    "language_info": {
      "codemirror_mode": {
        "name": "ipython",
        "version": 3
      },
      "file_extension": ".py",
      "mimetype": "text/x-python",
      "name": "python",
      "nbconvert_exporter": "python",
      "pygments_lexer": "ipython3",
      "version": "3.10.8"
    },
    "vscode": {
      "interpreter": {
        "hash": "949777d72b0d2535278d3dc13498b2535136f6dfe0678499012e853ee9abcab1"
      }
    },
    "colab": {
      "provenance": []
    }
  },
  "nbformat": 4,
  "nbformat_minor": 5
}