{
  "cells": [
    {
      "cell_type": "markdown",
      "id": "46fe28e1-3bde-40bc-9b0d-c852511e90ea",
      "metadata": {
        "id": "46fe28e1-3bde-40bc-9b0d-c852511e90ea"
      },
      "source": [
        "# MAC0318 - Estimação de estado - Notebook 1\n",
        "\n",
        "*Pré-requisitos*: \n",
        "- **Software**: Para rodar este notebook corretamente, você deve ter o Python na versão 3.9 ou mais recente e as bibliotecas NumPy e Matplotlib instaladas. \n",
        "- **Conhecimento**: Esta atividade assume familiaridade com o uso de notebooks Jupyter, a manipulação de matrizes usando a bilbioteca NumPy e conhecimento de teoria de probabilidades. Recomendamos seguir algum tutorial da internet antes de realizar essa atividade, se esse não for o seu caso.\n",
        "\n",
        "<span style=\"color:blue\">Se você está rodando o notebook em sala de aula, você deve ativar o ambiente `duckietown` do conda antes de abrir o jupyter notebook e escolher o kernel `duckietown`, para que os requerimentos sejam satisfeitos.</red>"
      ]
    },
    {
      "cell_type": "markdown",
      "metadata": {
        "id": "xbrfe_s9TlHP"
      },
      "source": [
        "## Estimação de estado\n",
        "\n",
        "Vamos construir um estimador de crença usando um filtro bayesiano para um domínio simples no qual um robô se locomove entre 4 células conectadas como na figura abaixo, e sensoria apenas a cor de cada célula:\n",
        "\n",
        "\n",
        "<figure style=\"text-align: center\">\n",
        "    <img src=\"img/mundo1d-num.png\" width=400>\n",
        "</figure>\n",
        "\n",
        "Para esse domínio simples, a variável de estado será representada por um processo estocástico discreto $X_t$ que toma valores em $\\{1,2,3,4\\}$ e a variável de observação será representada por um processo estocástico discreto $Y_t$ que toma valores binários representando as cores vermelha ($Y=0$) e verde ($Y=1$). O agente possui ações de mover-se à célula à esquerda ($u=-1$) ou à direita ($u=1$), que nem sempre são bem sucedidas. Por último, vamos tambem assumir que o tempo é discreto, ou seja, que o agente atualiza sua crença em instantes de tempo $t_0, t_0 + 1, \\ldots$, também conhecidos como estágios de decisão."
      ],
      "id": "xbrfe_s9TlHP"
    },
    {
      "cell_type": "code",
      "execution_count": null,
      "metadata": {
        "id": "d3ASaJapTlHQ"
      },
      "outputs": [],
      "source": [
        "# Vamos carregar os pacotes necessários\n",
        "\n",
        "%matplotlib inline\n",
        "import numpy as np\n",
        "import matplotlib.pyplot as plt"
      ],
      "id": "d3ASaJapTlHQ"
    },
    {
      "cell_type": "markdown",
      "metadata": {
        "id": "9CdYfMhXTlHQ"
      },
      "source": [
        "Vamos representar os suportes de cada variável aleatória por variáveis de programação de mesmo nome."
      ],
      "id": "9CdYfMhXTlHQ"
    },
    {
      "cell_type": "code",
      "execution_count": null,
      "metadata": {
        "id": "gl8bL-kwTlHR"
      },
      "outputs": [],
      "source": [
        "X = [1, 2, 3, 4]     # estados (células)\n",
        "Y = [0, 1]           # observações: 0 - vermelho, 1 - verde\n",
        "mapa = [0, 1, 1, 0]  # contém cor de cada célula"
      ],
      "id": "gl8bL-kwTlHR"
    },
    {
      "cell_type": "markdown",
      "metadata": {
        "id": "tkDvS3AMTlHR"
      },
      "source": [
        "Vamos especificar um sensor perfeito, ou seja, que identifica a cor exata da célula na qual o robô se encontra."
      ],
      "id": "tkDvS3AMTlHR"
    },
    {
      "cell_type": "code",
      "execution_count": null,
      "metadata": {
        "id": "XG7IYBqPTlHR"
      },
      "outputs": [],
      "source": [
        "def sensor(y, x): \n",
        "    ''' Returns P(Y=y | X=x). '''\n",
        "    if mapa[x-1] == y:\n",
        "        return 1.0\n",
        "    else:\n",
        "        return 0.0"
      ],
      "id": "XG7IYBqPTlHR"
    },
    {
      "cell_type": "code",
      "execution_count": null,
      "metadata": {
        "colab": {
          "base_uri": "https://localhost:8080/"
        },
        "id": "363sm0XiTlHS",
        "outputId": "34b9b753-3043-4b60-de42-ae44fffafd58"
      },
      "outputs": [
        {
          "output_type": "stream",
          "name": "stdout",
          "text": [
            "P(Y=0|X=1) = 1.0\n",
            "P(Y=1|X=1) = 0.0\n",
            "P(Y=0|X=2) = 0.0\n",
            "P(Y=1|X=2) = 1.0\n",
            "P(Y=0|X=3) = 0.0\n",
            "P(Y=1|X=3) = 1.0\n",
            "P(Y=0|X=4) = 1.0\n",
            "P(Y=1|X=4) = 0.0\n"
          ]
        }
      ],
      "source": [
        "for x in X:\n",
        "    for y in Y:\n",
        "        print(f'P(Y={y}|X={x}) =', sensor(y,x))"
      ],
      "id": "363sm0XiTlHS"
    },
    {
      "cell_type": "markdown",
      "metadata": {
        "id": "xLrp4yafTlHS"
      },
      "source": [
        "Vamos especificar a função de transição (modelo do processo, de dinâmica ou de ação):\n",
        "$$\n",
        "P(X_{t+1}=x' | X_t=x, u) = \\begin{cases} 1/4 & \\text{ se } x'=x \\text{ ou } x'=x+2u\\\\1/2 & \\text{se } x'=x+u \\end{cases}\n",
        "$$\n",
        "\n",
        "De acordo com a função acima, o robô se movimenta para a célula pretendida com probabilidade 1/2 e com probabilidade 1/2 a ação falha e ele permance na mesma célula ou atinge a célula seguinte à pretendida. Nas células sem vizinhança na direção pretendida (por exemplo, $X=1$ para ação $u=-1$) a ação faz o agente permanecer na mesma célula, por exemplo, $P(X_{t+1}=1|X_t=1, u=-1)=1$.\n",
        "\n",
        "Vamos representar as distribuições condicionais $P(X_{t+1}=x'|X_t=x, u)$ para uma dada ação $u$ como uma matriz $T[x',x]$ cuja coluna indica o valor do estado atual $x$ e cuja linha indica o valor do estado futuro $x'$. Dessa forma, os valores em cada coluna devem somar 1."
      ],
      "id": "xLrp4yafTlHS"
    },
    {
      "cell_type": "code",
      "execution_count": null,
      "metadata": {
        "id": "awZgT4oATlHT"
      },
      "outputs": [],
      "source": [
        "# T(x,u,x') = P(X'=x'|X=x,u)\n",
        "\n",
        "T = {\n",
        "    1: # u = direita \n",
        "     np.matrix( [[1/4, 0.0, 0.0, 0.0],  \n",
        "                 [1/2, 1/4, 0.0, 0.0],\n",
        "                 [1/4, 1/2, 1/4, 0.0],\n",
        "                 [0.0, 1/4, 3/4, 1.0]]),\n",
        "\n",
        "   -1: # u = esquerda\n",
        "     np.matrix( [[1.0, 3/4, 1/4, 0.0], \n",
        "                 [0.0, 1/4, 1/2, 1/4],\n",
        "                 [0.0, 0.0, 1/4, 1/2], \n",
        "                 [0.0, 0.0, 0.0, 1/4]])\n",
        "    }"
      ],
      "id": "awZgT4oATlHT"
    },
    {
      "cell_type": "markdown",
      "metadata": {
        "id": "yzUNNOcDTlHT"
      },
      "source": [
        "## Filtro Bayesiano\n",
        "\n",
        "O Filtro bayesiano calcula a crença \n",
        "$$\n",
        " \\text{bel}(x_t) = P(X_t = x_t | y_0,\\ldots,y_t,u_0,\\ldots,u_t)\n",
        "$$\n",
        "sobre o estado atual $X_t$ a partir de todas as ações $u$ e observações $y$ anteriores. \n",
        "\n",
        "Para facilitar as computações, vamos representar a crença por um vetor (ou tensor unidimensional)\n",
        "\n",
        "```python\n",
        "  bel = np.array([p1, p2, p3, p4]).T\n",
        "```\n",
        "\n",
        "onde `p1`, ..., `p4` são as probabilidades de cada célula (estado)."
      ],
      "id": "yzUNNOcDTlHT"
    },
    {
      "cell_type": "code",
      "execution_count": null,
      "metadata": {
        "id": "35tjOt77TlHT"
      },
      "outputs": [],
      "source": [
        "# Crença uniforme sobre todos os estado -- máxima ignorância/incerteza\n",
        "\n",
        "bel = np.array([1/4, 1/4, 1/4, 1/4]).T"
      ],
      "id": "35tjOt77TlHT"
    },
    {
      "cell_type": "markdown",
      "metadata": {
        "id": "tFGPUOU3TlHT"
      },
      "source": [
        "A função a seguir exibe a crença em um dado instante"
      ],
      "id": "tFGPUOU3TlHT"
    },
    {
      "cell_type": "code",
      "execution_count": null,
      "metadata": {
        "id": "-wPbvC7yTlHU"
      },
      "outputs": [],
      "source": [
        "def show_belief(p):\n",
        "    ''' Shows bar plot of belief funciton. '''\n",
        "    p = p.flatten()\n",
        "    states = plt.bar(X, p)\n",
        "    colors = {0: 'red', 1: 'green'}\n",
        "    for i in range(len(states)):\n",
        "        states[i].set_facecolor(colors[mapa[i]])\n",
        "    plt.xticks(X)\n",
        "    plt.ylim([0, 1])\n",
        "    plt.ylabel('bel(X)')\n",
        "    plt.xlabel('X') "
      ],
      "id": "-wPbvC7yTlHU"
    },
    {
      "cell_type": "code",
      "execution_count": null,
      "metadata": {
        "colab": {
          "base_uri": "https://localhost:8080/",
          "height": 283
        },
        "id": "ElwImUR5TlHU",
        "outputId": "2d5e9909-5ff4-480d-d997-7794061db172"
      },
      "outputs": [
        {
          "output_type": "display_data",
          "data": {
            "text/plain": [
              "<Figure size 432x288 with 1 Axes>"
            ],
            "image/png": "[encoded data removed]"
          },
          "metadata": {
            "needs_background": "light"
          }
        }
      ],
      "source": [
        "# Mostrando a crença atual\n",
        "\n",
        "show_belief(bel)"
      ],
      "id": "ElwImUR5TlHU"
    },
    {
      "cell_type": "markdown",
      "metadata": {
        "id": "KaUptbj3TlHU"
      },
      "source": [
        "O Filtro Bayesiano assume que **estado e observação são markovianos** para  obter uma fórmula recursiva para o cálculo da crença atual a partir da crença prévia em duas etapas: \n",
        "\n",
        "- Correção, na qual informação de observação é incorporada à crença, e \n",
        "- Predição, na qual informação sobre a ação executada pelo agente é considerada."
      ],
      "id": "KaUptbj3TlHU"
    },
    {
      "cell_type": "markdown",
      "metadata": {
        "id": "bLrQixvqTlHU"
      },
      "source": [
        "### Correção\n",
        "\n",
        "Considere que nosa crença no instante $t$ é a distribuição de probabilidades $\\text{bel}_t(x)=P(X_t = x)$ e que recebemos uma observação $Y_t=y$. Note que omitimos a dependência em informações anteriores, pois elas não são relevantes devido à hipótese de markovianidade do filtro. A etapa de correção atualiza a crença por:\n",
        "\n",
        "$$\n",
        "    \\text{bel}_{t+1}(x) = P(X_{t+1}=x|y) = \\frac{p(y | x)\\text{bel}_t(x)}{p(y)}\n",
        "$$\n",
        "\n",
        "O denominador da equação acima é constante em relação ao estado $x$. Dessa forma, e lembrando a propriedade de distribuição de probabilidades, $\\sum_{x=1}^4 P(X_{t+1}=x) = 1$, podemos calculá-la como a constante de normalização da versão não normalizada:\n",
        "\n",
        "$$\n",
        "    \\tilde{\\text{bel}}_{t+1}(x) = p(y | x)\\text{bel}_t(x) .\n",
        "$$\n",
        "\n",
        "Em termos vetoriais, a equação acima computa o produto ponto-a-ponto de dois vetores cujas posições correspondem aos estados $x$."
      ],
      "id": "bLrQixvqTlHU"
    },
    {
      "cell_type": "code",
      "execution_count": null,
      "metadata": {
        "id": "oQM_6KLxTlHU"
      },
      "outputs": [],
      "source": [
        "def correct(b, y):\n",
        "    ''' Update belief vector b given observation y -- Calls sensor model sensor(y) = P(Y=y|X).  '''\n",
        "    tilde_bel = np.array([sensor(y,x) for x in X]).T # P(Y=y|X=x)\n",
        "    tilde_bel *= b # bel(X) * P(y|X)\n",
        "    # normaliza e atualiza vetor de crença\n",
        "    b[:] = tilde_bel/np.sum(tilde_bel) \n"
      ],
      "id": "oQM_6KLxTlHU"
    },
    {
      "cell_type": "markdown",
      "metadata": {
        "id": "7Tskte8ATlHU"
      },
      "source": [
        "Vamos testar a equação de correção quando observamos a cor verde"
      ],
      "id": "7Tskte8ATlHU"
    },
    {
      "cell_type": "code",
      "execution_count": null,
      "metadata": {
        "colab": {
          "base_uri": "https://localhost:8080/",
          "height": 283
        },
        "id": "rdAliK9NTlHV",
        "outputId": "149fc024-b780-4ea5-e939-db7f93ca68a6"
      },
      "outputs": [
        {
          "output_type": "display_data",
          "data": {
            "text/plain": [
              "<Figure size 432x288 with 1 Axes>"
            ],
            "image/png": "[encoded data removed]"
          },
          "metadata": {
            "needs_background": "light"
          }
        }
      ],
      "source": [
        "# observar (verde)\n",
        "correct(bel, 1)\n",
        "\n",
        "show_belief(bel) "
      ],
      "id": "rdAliK9NTlHV"
    },
    {
      "cell_type": "markdown",
      "metadata": {
        "id": "zAFZRDjnTlHV"
      },
      "source": [
        "### Predição\n",
        "\n",
        "A segunda etapa do filtro bayesiano atualiza a crença para uma dada ação $u$ por meio da fórmula:\n",
        "$$\n",
        "  \\text{bel}_{t+1}(x') = \\sum_{x} P(X_{t+1}=x' | X_t=x, u) \\text{bel}_t(x) .\n",
        "$$\n",
        "\n",
        "Em notação matricial, com $\\text{bel}$ representado como um vetor `bel` e a função de transição como uma matriz `T[u]` na forma descrita anterioremente, a equação acima pode ser escrita como\n",
        "$$\n",
        "  bel = T[u] * bel\n",
        "$$"
      ],
      "id": "zAFZRDjnTlHV"
    },
    {
      "cell_type": "code",
      "execution_count": null,
      "metadata": {
        "id": "lsbVybvnTlHV"
      },
      "outputs": [],
      "source": [
        "def predict(b, u):\n",
        "    ''' Update belief given action u - uses transition matrix T[u][x',x] = P(X'=x'|X=x,u). '''\n",
        "    b[:] = T[u] @ b"
      ],
      "id": "lsbVybvnTlHV"
    },
    {
      "cell_type": "markdown",
      "metadata": {
        "id": "rKpa3Y-6TlHV"
      },
      "source": [
        "Vamos testar para uma ação de mover-se para a célula à direita a partir da crença atual"
      ],
      "id": "rKpa3Y-6TlHV"
    },
    {
      "cell_type": "code",
      "execution_count": null,
      "metadata": {
        "colab": {
          "base_uri": "https://localhost:8080/",
          "height": 283
        },
        "id": "Sd-bltWKTlHV",
        "outputId": "7d7cd68d-39dc-40a0-913b-57cd98c1c6d2"
      },
      "outputs": [
        {
          "output_type": "display_data",
          "data": {
            "text/plain": [
              "<Figure size 432x288 with 1 Axes>"
            ],
            "image/png": "[encoded data removed]"
          },
          "metadata": {
            "needs_background": "light"
          }
        }
      ],
      "source": [
        "# mover para direita\n",
        "predict(bel, 1)\n",
        "\n",
        "show_belief(bel)"
      ],
      "id": "Sd-bltWKTlHV"
    },
    {
      "cell_type": "markdown",
      "metadata": {
        "id": "2jW4Arb7TlHV"
      },
      "source": [
        "## Estimação pontual de estado\n",
        "\n",
        "Para transformamos a crença em uma sinal de erro utilizável por controlador (PID) precisamos extrair um sumário ou estatística da função. Para o caso de variáveis categóricas (cujos valores não possuem significado numérico, como as observações) ou para o caso de variáveis multimodais (ou seja, cujas distribuição de probabilidades possuem vários pontos de máximo locais), o mais comum é usar a **moda** da distribuição ou o valor mais provável, também conhecido como inferência de máximo a posteriori ou MAP (do inglês, _maximum a posteriori_).\n",
        "\n",
        "No nosso domínio simples, os estados podem ser entendidos como discretização de valores contínuous de posição, de forma que também é possível obter uma estatística que combine informação de toda a função de crença como a **média** ou valor esperado. \n",
        "\n",
        "Essas estatísticas são implementadas abaixo"
      ],
      "id": "2jW4Arb7TlHV"
    },
    {
      "cell_type": "code",
      "execution_count": null,
      "metadata": {
        "id": "A8zcojMATlHV"
      },
      "outputs": [],
      "source": [
        "def get_mode(b):\n",
        "    ''' Extract most probable belief state. '''\n",
        "    mode = X[0]\n",
        "    map_value = 0.0 # maximum state probability\n",
        "    for i,x in enumerate(X): # implementação ineficiente para fins didáticos!\n",
        "        if b[i] > map_value:\n",
        "            map_value = b[i]\n",
        "            mode = x\n",
        "    return mode"
      ],
      "id": "A8zcojMATlHV"
    },
    {
      "cell_type": "code",
      "execution_count": null,
      "metadata": {
        "id": "bScoTSo_TlHW"
      },
      "outputs": [],
      "source": [
        "def get_mean(b):\n",
        "    ''' Extract mean belief state value. '''\n",
        "    mean = 0.0\n",
        "    for i,x in enumerate(X): # impementação ineficiente para fins didáticos!\n",
        "        mean += x*b[i]\n",
        "    return mean"
      ],
      "id": "bScoTSo_TlHW"
    },
    {
      "cell_type": "markdown",
      "metadata": {
        "id": "GtZX0RB8TlHW"
      },
      "source": [
        "Para nossa crença atual, essas estatísticas resultam nos seguintes descritores:"
      ],
      "id": "GtZX0RB8TlHW"
    },
    {
      "cell_type": "code",
      "execution_count": null,
      "metadata": {
        "colab": {
          "base_uri": "https://localhost:8080/"
        },
        "id": "8fn8cAjKTlHW",
        "outputId": "69d06d96-78d5-46e9-843a-fa98bf41ad85"
      },
      "outputs": [
        {
          "output_type": "stream",
          "name": "stdout",
          "text": [
            "Mode state: 4\n",
            "Mean state: 3.375\n"
          ]
        }
      ],
      "source": [
        "def print_stats(bel):\n",
        "  x = get_mode(bel)\n",
        "  print('Mode state:', x)\n",
        "  x = get_mean(bel)\n",
        "  print('Mean state:', x)\n",
        "\n",
        "print_stats(bel)"
      ],
      "id": "8fn8cAjKTlHW"
    },
    {
      "cell_type": "markdown",
      "metadata": {
        "id": "YrtXF71OTlHW"
      },
      "source": [
        "## 💡 Exercício 1\n",
        "\n",
        "Use as funções espeficicadas para simular um agente que se locomove com movimentos aleatórios (ou seja, a cada passo desloca-se para direita ou esquerda com igual probabilidade). Observe como a crença do agente se modifica. Em particular, note que a etapa de correção diminui a incerteza, enquanto a etapa de predição aumenta a incerteza. Também repare como movimentos para as bordas diminuem a incerteza em função das ações se tornarem determinísticas. Rode simulações com crenças iniciais distintas também, por exemplo, além da completa ignorância do estado inicial, representada pela distribuição uniforme a priori, uma crença que atribui probabilidade 1/2 ao estado inicial estado e 1/4 ao estados vizinhos."
      ],
      "id": "YrtXF71OTlHW"
    },
    {
      "cell_type": "code",
      "execution_count": null,
      "metadata": {
        "colab": {
          "base_uri": "https://localhost:8080/"
        },
        "id": "KMMDwBqsTlHW",
        "outputId": "d0372a04-1848-4e88-ddf3-2cf80f788515"
      },
      "outputs": [
        {
          "output_type": "stream",
          "name": "stdout",
          "text": [
            "X inicial:  4\n",
            "Bel inicial:  [0.25 0.25 0.25 0.25]\n",
            "********************************************************\n",
            "Ação:  1\n",
            "Predição:  [0.0625 0.1875 0.25   0.5   ]\n",
            "Correção:  [0.11111111 0.         0.         0.88888889]\n",
            "********************************************************\n",
            "Ação:  -1\n",
            "Predição:  [0.11111111 0.22222222 0.44444444 0.22222222]\n",
            "Correção:  [0.         0.33333333 0.66666667 0.        ]\n",
            "********************************************************\n",
            "Ação:  -1\n",
            "Predição:  [0.41666667 0.41666667 0.16666667 0.        ]\n",
            "Correção:  [0.         0.71428571 0.28571429 0.        ]\n",
            "********************************************************\n",
            "Ação:  -1\n",
            "Predição:  [0.60714286 0.32142857 0.07142857 0.        ]\n",
            "Correção:  [1. 0. 0. 0.]\n",
            "********************************************************\n",
            "Ação:  1\n",
            "Predição:  [0.25 0.5  0.25 0.  ]\n",
            "Correção:  [0.         0.66666667 0.33333333 0.        ]\n",
            "********************************************************\n",
            "Ação:  1\n",
            "Predição:  [0.         0.16666667 0.41666667 0.41666667]\n",
            "Correção:  [0.         0.28571429 0.71428571 0.        ]\n",
            "********************************************************\n",
            "Ação:  1\n",
            "Predição:  [0.         0.07142857 0.32142857 0.60714286]\n",
            "Correção:  [0. 0. 0. 1.]\n",
            "********************************************************\n",
            "Ação:  -1\n",
            "Predição:  [0.   0.25 0.5  0.25]\n",
            "Correção:  [0.         0.33333333 0.66666667 0.        ]\n",
            "********************************************************\n",
            "Ação:  -1\n",
            "Predição:  [0.41666667 0.41666667 0.16666667 0.        ]\n",
            "Correção:  [0.         0.71428571 0.28571429 0.        ]\n",
            "********************************************************\n",
            "Ação:  -1\n",
            "Predição:  [0.60714286 0.32142857 0.07142857 0.        ]\n",
            "Correção:  [1. 0. 0. 0.]\n",
            "********************************************************\n",
            "Ação:  1\n",
            "Predição:  [0.25 0.5  0.25 0.  ]\n",
            "Correção:  [0.         0.66666667 0.33333333 0.        ]\n",
            "********************************************************\n",
            "Ação:  -1\n",
            "Predição:  [0.58333333 0.33333333 0.08333333 0.        ]\n",
            "Correção:  [1. 0. 0. 0.]\n",
            "********************************************************\n",
            "Ação:  -1\n",
            "Predição:  [1. 0. 0. 0.]\n",
            "Correção:  [1. 0. 0. 0.]\n",
            "********************************************************\n",
            "Ação:  -1\n",
            "Predição:  [1. 0. 0. 0.]\n",
            "Correção:  [1. 0. 0. 0.]\n",
            "********************************************************\n",
            "Ação:  1\n",
            "Predição:  [0.25 0.5  0.25 0.  ]\n",
            "Correção:  [0.         0.66666667 0.33333333 0.        ]\n",
            "********************************************************\n",
            "Ação:  1\n",
            "Predição:  [0.         0.16666667 0.41666667 0.41666667]\n",
            "Correção:  [0.         0.28571429 0.71428571 0.        ]\n",
            "********************************************************\n",
            "Ação:  1\n",
            "Predição:  [0.         0.07142857 0.32142857 0.60714286]\n",
            "Correção:  [0. 0. 0. 1.]\n",
            "********************************************************\n",
            "Ação:  1\n",
            "Predição:  [0. 0. 0. 1.]\n",
            "Correção:  [0. 0. 0. 1.]\n",
            "********************************************************\n",
            "Ação:  -1\n",
            "Predição:  [0.   0.25 0.5  0.25]\n",
            "Correção:  [0.         0.33333333 0.66666667 0.        ]\n",
            "********************************************************\n",
            "Ação:  1\n",
            "Predição:  [0.         0.08333333 0.33333333 0.58333333]\n",
            "Correção:  [0. 0. 0. 1.]\n",
            "********************************************************\n"
          ]
        }
      ],
      "source": [
        "# Implementar simulação descrita acima\n",
        "\n",
        "bel = np.array([1/4, 1/4, 1/4, 1/4]).T\n",
        "# show_belief(bel)\n",
        "\n",
        "# Gera posição inicial aleatória entre X[0] e X[-1] (inclusive)\n",
        "x_true = np.random.randint(X[0],X[-1]+1)\n",
        "\n",
        "print(\"X inicial: \", x_true)\n",
        "print(\"Bel inicial: \", bel)\n",
        "print(\"********************************************************\")\n",
        "for i in range(20):\n",
        "  # Para gerar uma ação aleatória -1 ou 1 com mesma probabilidade\n",
        "  u = 2*np.random.randint(0,2) - 1\n",
        "  if (x_true == X[0] and u == -1) or (x_true == X[-1] and u == 1):\n",
        "    x_true = x_true #continua no mesmo lugar\n",
        "  else:\n",
        "    x_true += u\n",
        "  print(\"Ação: \", u)\n",
        "  predict(bel, u)\n",
        "  print(\"Predição: \", bel)\n",
        "  correct(bel, mapa[x_true-1])\n",
        "  print(\"Correção: \", bel)\n",
        "  print(\"********************************************************\")"
      ],
      "id": "KMMDwBqsTlHW"
    },
    {
      "cell_type": "markdown",
      "metadata": {
        "id": "GnI2OHM0TlHW"
      },
      "source": [
        "## 💡 Exercício 2\n",
        "\n",
        "Refaça suas investigações considerando um domínio mais complexo, composto de 100 células e um sensor imperfeito, que devolve a cor errada com probabilidade 0,1. Como o comportamento do filtro bayesian se diferencia nesse caso?\n",
        "\n",
        "\n",
        "**Resposta:** É possível perceber que dependendo dos movimentos realizados, as probabilidades acabam se espalhando cada vez mais. Além disso, a chance de encontrar algum dos cantos (e, portanto, eliminar as incertezas) é muito baixa."
      ],
      "id": "GnI2OHM0TlHW"
    },
    {
      "cell_type": "code",
      "execution_count": null,
      "metadata": {
        "id": "JHcYGiJDTlHW"
      },
      "outputs": [],
      "source": [
        "# simular filtro em domínio maior\n",
        "X = np.arange(1,101)     # estados (células)\n",
        "Y = [0, 1]               # observações: 0 - vermelho, 1 - verde\n",
        "mapa = np.random.randint(0,2,len(X))      # mapa aleatório -- contém cor de cada célula\n",
        "\n",
        "def sensor(y, x): \n",
        "    ''' Returns P(Y=y | X=x). '''\n",
        "    # Modifique essa função para que ela simule um sensor que erra com probabilidade 0,1\n",
        "    if mapa[x-1] == y:\n",
        "        p = 1.0\n",
        "    else:\n",
        "        p = 0.0\n",
        "    return 1-p if np.random.rand() < 0.1 else p\n"
      ],
      "id": "JHcYGiJDTlHW"
    },
    {
      "cell_type": "code",
      "execution_count": null,
      "metadata": {
        "id": "Bq9J1EfYTlHW",
        "colab": {
          "base_uri": "https://localhost:8080/"
        },
        "outputId": "3f7657b9-e580-4ec7-9f37-c4b7f3729cb0"
      },
      "outputs": [
        {
          "output_type": "stream",
          "name": "stdout",
          "text": [
            "X inicial:  95\n",
            "Bel inicial:  [0.   0.   0.   0.   0.   0.   0.   0.   0.   0.   0.   0.   0.   0.\n",
            " 0.   0.   0.   0.   0.   0.   0.   0.   0.   0.   0.   0.   0.   0.\n",
            " 0.   0.   0.   0.   0.   0.   0.   0.   0.   0.   0.   0.   0.   0.\n",
            " 0.   0.   0.   0.   0.   0.   0.   0.   0.   0.   0.   0.   0.   0.\n",
            " 0.   0.   0.   0.   0.   0.   0.   0.   0.   0.   0.   0.   0.   0.\n",
            " 0.   0.   0.   0.   0.   0.   0.   0.   0.   0.   0.   0.   0.   0.\n",
            " 0.   0.   0.   0.   0.   0.   0.   0.   0.   0.25 0.5  0.25 0.   0.\n",
            " 0.   0.  ]\n",
            "********************************************************\n",
            "Ação:  -1\n",
            "---Predição---\n",
            "i  val\n",
            "91 0.0625\n",
            "92 0.25\n",
            "93 0.375\n",
            "94 0.25\n",
            "95 0.0625\n",
            "---Correção---\n",
            "i  val\n",
            "92 0.5\n",
            "94 0.5\n",
            "********************************************************\n",
            "Ação:  -1\n",
            "---Predição---\n",
            "i  val\n",
            "90 0.125\n",
            "91 0.25\n",
            "92 0.25\n",
            "93 0.25\n",
            "94 0.125\n",
            "---Correção---\n",
            "i  val\n",
            "92 0.4\n",
            "93 0.4\n",
            "94 0.2\n",
            "********************************************************\n",
            "Ação:  1\n",
            "---Predição---\n",
            "i  val\n",
            "92 0.1\n",
            "93 0.30000000000000004\n",
            "94 0.35000000000000003\n",
            "95 0.2\n",
            "96 0.05\n",
            "---Correção---\n",
            "i  val\n",
            "92 0.125\n",
            "93 0.37500000000000006\n",
            "94 0.4375\n",
            "96 0.0625\n",
            "********************************************************\n",
            "Ação:  1\n",
            "---Predição---\n",
            "i  val\n",
            "92 0.03125\n",
            "93 0.15625\n",
            "94 0.328125\n",
            "95 0.3125\n",
            "96 0.125\n",
            "97 0.03125\n",
            "98 0.015625\n",
            "---Correção---\n",
            "i  val\n",
            "92 0.047619047619047616\n",
            "93 0.23809523809523808\n",
            "94 0.5\n",
            "96 0.19047619047619047\n",
            "98 0.023809523809523808\n",
            "********************************************************\n",
            "Ação:  -1\n",
            "---Predição---\n",
            "i  val\n",
            "90 0.011904761904761904\n",
            "91 0.08333333333333333\n",
            "92 0.25595238095238093\n",
            "93 0.30952380952380953\n",
            "94 0.17261904761904762\n",
            "95 0.09523809523809523\n",
            "96 0.05357142857142857\n",
            "97 0.011904761904761904\n",
            "98 0.005952380952380952\n",
            "---Correção---\n",
            "i  val\n",
            "92 0.32089552238805963\n",
            "93 0.3880597014925373\n",
            "94 0.21641791044776118\n",
            "96 0.0671641791044776\n",
            "98 0.007462686567164178\n",
            "********************************************************\n",
            "Ação:  1\n",
            "---Predição---\n",
            "i  val\n",
            "92 0.08022388059701491\n",
            "93 0.25746268656716415\n",
            "94 0.32835820895522383\n",
            "95 0.2052238805970149\n",
            "96 0.0708955223880597\n",
            "97 0.0335820895522388\n",
            "98 0.018656716417910443\n",
            "99 0.005597014925373133\n",
            "---Correção---\n",
            "i  val\n",
            "92 0.18534482758620688\n",
            "93 0.5948275862068966\n",
            "96 0.16379310344827588\n",
            "98 0.043103448275862065\n",
            "99 0.01293103448275862\n",
            "********************************************************\n",
            "Ação:  1\n",
            "---Predição---\n",
            "i  val\n",
            "92 0.04633620689655172\n",
            "93 0.24137931034482757\n",
            "94 0.34375\n",
            "95 0.14870689655172414\n",
            "96 0.04094827586206897\n",
            "97 0.08189655172413794\n",
            "98 0.05172413793103449\n",
            "99 0.045258620689655166\n",
            "---Correção---\n",
            "i  val\n",
            "94 0.5984990619136961\n",
            "95 0.2589118198874296\n",
            "97 0.14258911819887432\n",
            "********************************************************\n",
            "Ação:  1\n",
            "---Predição---\n",
            "i  val\n",
            "94 0.14962476547842402\n",
            "95 0.36397748592870544\n",
            "96 0.2790806754221388\n",
            "97 0.10037523452157598\n",
            "98 0.07129455909943716\n",
            "99 0.03564727954971858\n",
            "---Correção---\n",
            "i  val\n",
            "94 0.27933450087565675\n",
            "96 0.521015761821366\n",
            "98 0.13309982486865152\n",
            "99 0.06654991243432576\n",
            "********************************************************\n",
            "Ação:  1\n",
            "---Predição---\n",
            "i  val\n",
            "94 0.06983362521891419\n",
            "95 0.13966725043782838\n",
            "96 0.20008756567425567\n",
            "97 0.260507880910683\n",
            "98 0.16352889667250436\n",
            "99 0.16637478108581438\n",
            "---Correção---\n",
            "i  val\n",
            "94 0.14857941313460643\n",
            "95 0.29715882626921286\n",
            "97 0.5542617605961807\n",
            "********************************************************\n",
            "Ação:  -1\n",
            "---Predição---\n",
            "i  val\n",
            "92 0.03714485328365161\n",
            "93 0.14857941313460643\n",
            "94 0.18572426641825804\n",
            "95 0.2128551467163484\n",
            "96 0.27713088029809035\n",
            "97 0.13856544014904518\n",
            "---Correção---\n",
            "i  val\n",
            "93 0.3490153172866521\n",
            "96 0.6509846827133479\n",
            "********************************************************\n",
            "Ação:  -1\n",
            "---Predição---\n",
            "i  val\n",
            "91 0.08725382932166302\n",
            "92 0.17450765864332604\n",
            "93 0.08725382932166302\n",
            "94 0.16274617067833697\n",
            "95 0.32549234135667393\n",
            "96 0.16274617067833697\n",
            "---Correção---\n",
            "i  val\n",
            "91 0.1163384390955507\n",
            "92 0.2326768781911014\n",
            "95 0.43398978847556524\n",
            "96 0.21699489423778262\n",
            "********************************************************\n",
            "Ação:  -1\n",
            "---Predição---\n",
            "i  val\n",
            "89 0.029084609773887674\n",
            "90 0.1163384390955507\n",
            "91 0.14542304886943835\n",
            "92 0.05816921954777535\n",
            "93 0.10849744711889131\n",
            "94 0.2712436177972283\n",
            "95 0.21699489423778262\n",
            "96 0.054248723559445655\n",
            "---Correção---\n",
            "i  val\n",
            "89 0.04618502968003475\n",
            "92 0.0923700593600695\n",
            "94 0.43072245547994786\n",
            "95 0.34457796438395827\n",
            "96 0.08614449109598957\n",
            "********************************************************\n",
            "Ação:  1\n",
            "---Predição---\n",
            "i  val\n",
            "89 0.011546257420008688\n",
            "90 0.023092514840017377\n",
            "91 0.011546257420008688\n",
            "92 0.023092514840017377\n",
            "93 0.04618502968003475\n",
            "94 0.13077312871000435\n",
            "95 0.3015057188359635\n",
            "96 0.3015057188359635\n",
            "97 0.12921673664398436\n",
            "98 0.021536122773997392\n",
            "---Correção---\n",
            "i  val\n",
            "90 0.049622773586373195\n",
            "91 0.024811386793186598\n",
            "95 0.6478960877343082\n",
            "97 0.2776697518861321\n",
            "********************************************************\n",
            "Ação:  -1\n",
            "---Predição---\n",
            "i  val\n",
            "88 0.012405693396593299\n",
            "89 0.031014233491483245\n",
            "90 0.024811386793186598\n",
            "91 0.006202846698296649\n",
            "93 0.16197402193357704\n",
            "94 0.3239480438671541\n",
            "95 0.23139145990511006\n",
            "96 0.13883487594306604\n",
            "97 0.06941743797153302\n",
            "---Correção---\n",
            "i  val\n",
            "89 0.04729429206819868\n",
            "93 0.24699777613046703\n",
            "94 0.49399555226093406\n",
            "96 0.21171237954040031\n",
            "********************************************************\n",
            "Ação:  1\n",
            "---Predição---\n",
            "i  val\n",
            "89 0.01182357301704967\n",
            "90 0.02364714603409934\n",
            "91 0.01182357301704967\n",
            "93 0.06174944403261676\n",
            "94 0.24699777613046703\n",
            "95 0.30874722016308376\n",
            "96 0.1764269829503336\n",
            "97 0.10585618977020016\n",
            "98 0.05292809488510008\n",
            "---Correção---\n",
            "i  val\n",
            "90 0.052540558346372404\n",
            "91 0.026270279173186202\n",
            "95 0.6859919295067116\n",
            "97 0.23519723297372971\n",
            "********************************************************\n",
            "Ação:  1\n",
            "---Predição---\n",
            "i  val\n",
            "90 0.013135139586593101\n",
            "91 0.03283784896648275\n",
            "92 0.026270279173186202\n",
            "93 0.0065675697932965505\n",
            "95 0.1714979823766779\n",
            "96 0.3429959647533558\n",
            "97 0.23029729062011034\n",
            "98 0.11759861648686486\n",
            "99 0.05879930824343243\n",
            "---Correção---\n",
            "i  val\n",
            "91 0.062397308504811844\n",
            "92 0.049917846803849475\n",
            "93 0.012479461700962369\n",
            "96 0.6517486894609186\n",
            "98 0.2234566935294578\n",
            "********************************************************\n",
            "Ação:  1\n",
            "---Predição---\n",
            "i  val\n",
            "91 0.015599327126202961\n",
            "92 0.04367811595336829\n",
            "93 0.04367811595336829\n",
            "94 0.018719192551443553\n",
            "95 0.003119865425240592\n",
            "96 0.16293717236522964\n",
            "97 0.3258743447304593\n",
            "98 0.21880134574759408\n",
            "99 0.16759252014709336\n",
            "---Correção---\n",
            "i  val\n",
            "91 0.045268774479196236\n",
            "95 0.009053754895839247\n",
            "97 0.9456774706249645\n",
            "********************************************************\n",
            "Ação:  -1\n",
            "---Predição---\n",
            "i  val\n",
            "89 0.011317193619799059\n",
            "90 0.022634387239598118\n",
            "91 0.011317193619799059\n",
            "93 0.002263438723959812\n",
            "94 0.004526877447919624\n",
            "95 0.23868280638020095\n",
            "96 0.4728387353124823\n",
            "97 0.23641936765624114\n",
            "---Correção---\n",
            "i  val\n",
            "89 0.015367865263806992\n",
            "91 0.015367865263806992\n",
            "94 0.006147146105522797\n",
            "96 0.6420780822445755\n",
            "97 0.32103904112228776\n",
            "********************************************************\n",
            "Ação:  1\n",
            "---Predição---\n",
            "i  val\n",
            "89 0.003841966315951748\n",
            "90 0.007683932631903496\n",
            "91 0.007683932631903496\n",
            "92 0.007683932631903496\n",
            "93 0.003841966315951748\n",
            "94 0.0015367865263806993\n",
            "95 0.0030735730527613986\n",
            "96 0.16205630708752458\n",
            "97 0.4012988014028597\n",
            "98 0.32103904112228776\n",
            "99 0.08025976028057194\n",
            "---Correção---\n",
            "i  val\n",
            "90 0.018140357461714746\n",
            "91 0.018140357461714746\n",
            "93 0.009070178730857373\n",
            "95 0.0072561429846859\n",
            "97 0.9473929633610272\n",
            "********************************************************\n",
            "Ação:  1\n",
            "---Predição---\n",
            "i  val\n",
            "90 0.004535089365428686\n",
            "91 0.01360526809628606\n",
            "92 0.01360526809628606\n",
            "93 0.00680263404814303\n",
            "94 0.004535089365428686\n",
            "95 0.004081580428885818\n",
            "96 0.00362807149234295\n",
            "97 0.23866227658642827\n",
            "98 0.4736964816805136\n",
            "99 0.2368482408402568\n",
            "---Correção---\n",
            "i  val\n",
            "92 0.018407492253273244\n",
            "93 0.009203746126636622\n",
            "94 0.006135830751091082\n",
            "96 0.004908664600872866\n",
            "98 0.6408961775120842\n",
            "99 0.3204480887560421\n",
            "********************************************************\n"
          ]
        }
      ],
      "source": [
        "# Constroi a nova matriz T\n",
        "T = {\n",
        "    1: np.zeros(shape=(len(X), len(X))),\n",
        "    -1: np.zeros(shape=(len(X), len(X)))\n",
        "}\n",
        "\n",
        "for i in range(len(X)):\n",
        "  T[1][i, i] += 1/4\n",
        "\n",
        "  if(i + 1 >= len(X)):\n",
        "    T[1][i, i] += 1/2\n",
        "    T[1][i, i] += 1/4\n",
        "  else:\n",
        "    T[1][i+1, i] += 1/2\n",
        "    if(i + 2 >= len(X)):\n",
        "      T[1][i+1, i] += 1/4\n",
        "    else:\n",
        "      T[1][i+2, i] += 1/4\n",
        "\n",
        "for i in range(len(X)):\n",
        "  T[-1][i, i] += 1/4\n",
        "\n",
        "  if(i - 1 < 0):\n",
        "    T[-1][i, i] += 1/2\n",
        "    T[-1][i, i] += 1/4\n",
        "  else:\n",
        "    T[-1][i-1, i] += 1/2\n",
        "    if(i - 2 < 0):\n",
        "      T[-1][i-1, i] += 1/4\n",
        "    else:\n",
        "      T[-1][i-2, i] += 1/4\n",
        "      \n",
        "# Função auxiliar que printa somente as posições da belief diferentes de zero\n",
        "def print_non_zeroes(bel):\n",
        "  print(\"i\", \" val\")\n",
        "  for i in range(len(X)):\n",
        "    if(bel[i] > 0):\n",
        "      print(i, bel[i])\n",
        "  \n",
        "  return\n",
        "\n",
        "# Gera posição inicial aleatória entre X[0] e X[-1] (inclusive)\n",
        "x_true = np.random.randint(X[0],X[-1]+1)\n",
        "\n",
        "bel = np.zeros(len(X))\n",
        "bel[x_true-1] = 1/2\n",
        "if(x_true - 2 < 0):\n",
        "  bel[x_true - 1] += 1/4\n",
        "else:\n",
        "  bel[x_true - 2] = 1/4\n",
        "\n",
        "if(x_true >= len(X)):\n",
        "  bel[x_true - 1] += 1/4\n",
        "else:\n",
        "  bel[x_true] = 1/4\n",
        "\n",
        "bel = bel.T\n",
        "print(\"X inicial: \", x_true)\n",
        "print(\"Bel inicial: \", bel)\n",
        "print(\"********************************************************\")\n",
        "for i in range(20):\n",
        "  # Para gerar uma ação aleatória -1 ou 1 com mesma probabilidade\n",
        "  u = 2*np.random.randint(0,2) - 1\n",
        "  if (x_true == X[0] and u == -1) or (x_true == X[-1] and u == 1):\n",
        "    x_true = x_true #continua no mesmo lugar\n",
        "  else:\n",
        "    x_true += u\n",
        "  print(\"Ação: \", u)\n",
        "  predict(bel, u)\n",
        "  print(\"---Predição---\")\n",
        "  print_non_zeroes(bel)\n",
        "  correct(bel, mapa[x_true-1])\n",
        "  print(\"---Correção---\")\n",
        "  print_non_zeroes(bel)\n",
        "  print(\"********************************************************\")"
      ],
      "id": "Bq9J1EfYTlHW"
    }
  ],
  "metadata": {
    "kernelspec": {
      "display_name": "Python 3.10.8 64-bit",
      "language": "python",
      "name": "python3"
    },
    "language_info": {
      "codemirror_mode": {
        "name": "ipython",
        "version": 3
      },
      "file_extension": ".py",
      "mimetype": "text/x-python",
      "name": "python",
      "nbconvert_exporter": "python",
      "pygments_lexer": "ipython3",
      "version": "3.10.8"
    },
    "vscode": {
      "interpreter": {
        "hash": "949777d72b0d2535278d3dc13498b2535136f6dfe0678499012e853ee9abcab1"
      }
    },
    "colab": {
      "provenance": []
    }
  },
  "nbformat": 4,
  "nbformat_minor": 5
}