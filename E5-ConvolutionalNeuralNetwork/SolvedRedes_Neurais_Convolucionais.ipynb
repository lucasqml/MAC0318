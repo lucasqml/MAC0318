{
  "cells": [
    {
      "cell_type": "markdown",
      "id": "46fe28e1-3bde-40bc-9b0d-c852511e90ea",
      "metadata": {
        "id": "46fe28e1-3bde-40bc-9b0d-c852511e90ea"
      },
      "source": [
        "# MAC0318 - Aprendizado Supervisionado - Notebook 4\n",
        "\n",
        "*Pré-requisitos*: \n",
        "- **Software**: Para rodar este notebook corretamente, você deve ter o Python na versão 3.9 ou mais recente e as bibliotecas NumPy e Tensorflow instaladas. Se você não conseguir ou quiser instalar o Tensorflow em seu computador, é possível rodá-lo na nuvem usando o [Google Colab](colab.research.google.com), como descrito na respectiva seção abaixo. \n",
        "- **Conhecimento**: Esta atividade assume familiaridade com o uso de notebooks Jupyter e conhecimentos básicos de redes neurais convolucionais e aprendizado por descida de gradiente. Recomendamos seguir algum tutorial da internet antes de realizar essa atividade, se esse não for o seu caso.\n",
        "\n",
        "<span style=\"color:blue\">Se você está rodando o notebook em sala de aula, você deve ativar o ambiente `duckietown` do conda antes de abrir o jupyter notebook e escolher o kernel `duckietown`, para que os requerimentos sejam satisfeitos.</red>"
      ]
    },
    {
      "cell_type": "markdown",
      "metadata": {
        "id": "V00rkAAMNgYR"
      },
      "source": [
        "## Estimando a localização do robô na pista\n",
        "\n",
        "Vamos construir novamente um regressor baseado em redes neurais para prever a posição do robô na pista a partir de imagens da câmera frontal. A saída do nosso modelo é portanto uma estimativa para\n",
        "\n",
        "$$\n",
        "y(t) = 6d(t) + \\alpha(t) ,\n",
        "$$\n",
        "\n",
        "onde $d$ e $\\alpha$ são dados como na figura abaixo.\n",
        "\n",
        "<figure style=\"text-align: center\">\n",
        "    <img src=\"img/lane_following2.png\" width=300>\n",
        "</figure>\n",
        "\n",
        "Vamos modificar a arquitetura que usamos anteriormente para incluir camadas convolucionais que permitam atingir desempenho similar com um número muito menor de parâmetros e sem segmentação de cores."
      ],
      "id": "V00rkAAMNgYR"
    },
    {
      "cell_type": "markdown",
      "metadata": {
        "id": "PloduI1xYtRN"
      },
      "source": [
        "## Pré-processamento de imagem\n",
        "\n",
        "Vamos carregar os dados com as imagens pré-processadas (redimensionadas e com a porção acima da linha do horizonte descartada). Apesar da segmentação por cores tornar o modelo mais robusto à mudanças do ambiente e facilitar o aprendizado, vamos aprender um regressor diretamente das imagens no espaço RGB."
      ],
      "id": "PloduI1xYtRN"
    },
    {
      "cell_type": "code",
      "execution_count": 1,
      "metadata": {
        "id": "Ag0ozcitYtRO"
      },
      "outputs": [],
      "source": [
        "# Começamos carregando as bibliotecas necessárias\n",
        "\n",
        "%matplotlib inline\n",
        "import numpy as np\n",
        "import matplotlib.pyplot as plt\n",
        "import tensorflow as tf\n",
        "import tensorflow.keras as keras\n",
        "import tensorflow.keras.layers as layers\n",
        "import gc"
      ],
      "id": "Ag0ozcitYtRO"
    },
    {
      "cell_type": "markdown",
      "metadata": {
        "id": "a08y4um_YtRO"
      },
      "source": [
        "### Obtendo o conjunto de dados\n",
        "\n",
        "Vamos utilizar os mesmos conjuntos de [dados de imagens](https://drive.google.com/file/d/1n9uitBceCk4xXEJ7njoKWFMXpNegySDQ/view?usp=sharing) e os respectivos [valores de saída](https://drive.google.com/file/d/1yVujNH-Hd7ifqKrgAe6XscawdhDVkn_f/view?usp=sharing) $y=6d+\\alpha$.\n",
        "Baixe os arquivos (se já não os tiver em seu computador) e modifique os caminhos abaixo de maneira adequada."
      ],
      "id": "a08y4um_YtRO"
    },
    {
      "cell_type": "code",
      "source": [
        "from google.colab import drive\n",
        "drive.mount('/content/drive')"
      ],
      "metadata": {
        "colab": {
          "base_uri": "https://localhost:8080/"
        },
        "id": "Imrdm8gH_yHd",
        "outputId": "6b999a03-7864-49ee-b603-76942950252f"
      },
      "id": "Imrdm8gH_yHd",
      "execution_count": 3,
      "outputs": [
        {
          "output_type": "stream",
          "name": "stdout",
          "text": [
            "Mounted at /content/drive\n"
          ]
        }
      ]
    },
    {
      "cell_type": "code",
      "execution_count": 4,
      "metadata": {
        "colab": {
          "base_uri": "https://localhost:8080/"
        },
        "id": "DC_9x6DsYtRO",
        "outputId": "637186e3-ee85-413f-8820-332a0a293537"
      },
      "outputs": [
        {
          "output_type": "stream",
          "name": "stdout",
          "text": [
            "Dimensões das imagens: (3775, 42, 80, 3)\n",
            "Dimensões das saídas: (3775,)\n"
          ]
        }
      ],
      "source": [
        "# Mude os endereços dos arquivos conforme necessário\n",
        "images = np.load('/content/drive/MyDrive/data-lane-pose-estimation-images.npy', allow_pickle=True) \n",
        "print('Dimensões das imagens:', images.shape) # dimensões do conjunto de imagens: número de exemplos e dimensões de cada imagem\n",
        "y_true = np.load('/content/drive/MyDrive/data-lane-pose-estimation-labels.npy', allow_pickle=True) \n",
        "print('Dimensões das saídas:', y_true.shape) # dimensões do conjunto de saídas: número de exemplos"
      ],
      "id": "DC_9x6DsYtRO"
    },
    {
      "cell_type": "markdown",
      "metadata": {
        "id": "e456ZutGYtRP"
      },
      "source": [
        "Vamos normalizar as imagens para que os pixels sejam valores reais no intervalo $[0,1]$ com precisão de 32 bits."
      ],
      "id": "e456ZutGYtRP"
    },
    {
      "cell_type": "code",
      "execution_count": 5,
      "metadata": {
        "id": "toFTeVD_YtRP"
      },
      "outputs": [],
      "source": [
        "X = (images/255.0).astype(np.float32)"
      ],
      "id": "toFTeVD_YtRP"
    },
    {
      "cell_type": "markdown",
      "metadata": {
        "id": "_tiw4wKNYtRP"
      },
      "source": [
        "Vamos ver a primeira imagem do conjunto e suas saída"
      ],
      "id": "_tiw4wKNYtRP"
    },
    {
      "cell_type": "code",
      "execution_count": 6,
      "metadata": {
        "colab": {
          "base_uri": "https://localhost:8080/",
          "height": 257
        },
        "id": "Yds83ZD6YtRQ",
        "outputId": "9926827a-d731-4646-ee21-f0658f526753"
      },
      "outputs": [
        {
          "output_type": "stream",
          "name": "stdout",
          "text": [
            "Dimensões: 80x42 pixels\n"
          ]
        },
        {
          "output_type": "display_data",
          "data": {
            "text/plain": [
              "<Figure size 432x288 with 1 Axes>"
            ],
            "image/png": "[encoded data removed]"
          },
          "metadata": {
            "needs_background": "light"
          }
        }
      ],
      "source": [
        "img, y = X[0], y_true[0]\n",
        "plt.imshow(img);\n",
        "plt.title(f'y = {y}')\n",
        "print(f'Dimensões: {img.shape[1]}x{img.shape[0]} pixels')"
      ],
      "id": "Yds83ZD6YtRQ"
    },
    {
      "cell_type": "markdown",
      "metadata": {
        "id": "x4tqSMRbYtRQ"
      },
      "source": [
        "### Separação treino-teste\n",
        "\n",
        "Particionamos os dados entre:\n",
        "\n",
        "1. **Treino**: Usado para selecionar ou ajustar os parâmetros do modelo para obter uma acurácia alta.\n",
        "2. **Teste**: Usado para estimar a acurácia do modelo em dados reais *não vistos*."
      ],
      "id": "x4tqSMRbYtRQ"
    },
    {
      "cell_type": "code",
      "execution_count": 7,
      "metadata": {
        "colab": {
          "base_uri": "https://localhost:8080/"
        },
        "id": "jbe9XTVGYtRQ",
        "outputId": "14c13fee-ec7c-445a-9b82-99bb13605fae"
      },
      "outputs": [
        {
          "output_type": "stream",
          "name": "stdout",
          "text": [
            "Proporção de treino: 0.9001\n"
          ]
        }
      ],
      "source": [
        "p = 0.9 # proporção do tamanho do subconjunto de treino\n",
        "N_treino = int(p*X.shape[0] + 0.5) # quantidade de exemplos de treino\n",
        "\n",
        "# Permutamos os índices dos exemplos\n",
        "indices = np.random.permutation(X.shape[0])\n",
        "id_treino, id_teste = indices[:N_treino], indices[N_treino:]\n",
        "X_treino, X_teste = X[id_treino,:,:,:], X[id_teste,:,:,:]\n",
        "y_treino, y_teste = y_true[id_treino], y_true[id_teste]\n",
        "\n",
        "print(f'Proporção de treino: {X_treino.shape[0]/X.shape[0]:.4f}')"
      ],
      "id": "jbe9XTVGYtRQ"
    },
    {
      "cell_type": "markdown",
      "metadata": {
        "id": "C-inuYFcYtRQ"
      },
      "source": [
        "##  Treinamento\n",
        "\n",
        "Podemos finalmente aprender uma rede neural para a tarefa -- Precisamos escolher a arquitetura da rede e os hiperparâmetros."
      ],
      "id": "C-inuYFcYtRQ"
    },
    {
      "cell_type": "code",
      "execution_count": 8,
      "metadata": {
        "colab": {
          "base_uri": "https://localhost:8080/"
        },
        "id": "GLRMeyCRYtRQ",
        "outputId": "e4cb2c64-0d40-4351-92b9-b9ae5986df9e"
      },
      "outputs": [
        {
          "output_type": "stream",
          "name": "stdout",
          "text": [
            "GPU Available:  []\n"
          ]
        }
      ],
      "source": [
        "# Ter uma GPU ajuda bastante, mas não é crucial para esse exemplo pequeno\n",
        "# Lembre-se: você pode recorrer ao Google Colaboratory para treinar a rede se precisar\n",
        "print(\"GPU Available: \", tf.config.list_physical_devices('GPU'))"
      ],
      "id": "GLRMeyCRYtRQ"
    },
    {
      "cell_type": "markdown",
      "metadata": {
        "id": "OMEeks9MYtRQ"
      },
      "source": [
        "### Arquitetura\n",
        "\n",
        "Vamos usar uma arquitetura simples com 5 camadas ocultas.\n",
        "\n",
        "As três primeiras camadas farão a extração das características e serão do [tipo convolucional](https://www.tensorflow.org/api_docs/python/tf/keras/layers/Conv2D). As últimas duas camadas servirão para construir um regressor não linear a partir das características extraídas e serão do tipo densas. Como anteriormente, diminuímos os tamanhos das camadas a medida que avançamos rumo a saída de forma a encorjar representações dos dados cada vez mais abstratas por meio de compressão de informação.\n",
        "\n",
        "Você pode experimentar com arquiteturas diferentes e analisar o impacto no desempenho."
      ],
      "id": "OMEeks9MYtRQ"
    },
    {
      "cell_type": "code",
      "execution_count": 9,
      "metadata": {
        "id": "GoJ9REdDYtRR"
      },
      "outputs": [],
      "source": [
        "# Especifiamos e compilamos uma rede sem camadas ocultas\n",
        "\n",
        "dimensão = X[0].size # tamanho total da entrada \n",
        "\n",
        "gc.collect() # vamos limpar a memória antes de construir o modelo (pois ele usa bastante memória)\n",
        "\n",
        "modelo = keras.Sequential([\n",
        "    keras.Input(shape=X[0].shape), # camada de entrada   # As primeiras \n",
        "    # Vamos começar por uma camada convolucional com 16 filtros convolucionais, kernel 3x3, sem padding e com passo (stride) 1\n",
        "    layers.Conv2D(16, kernel_size=3, strides=(1, 1), activation='leaky_relu'), \n",
        "    # Seguida por uma camada convolucional com 8 filtros, kernel 3x3, sem padding e com passo 2\n",
        "    layers.Conv2D(8, kernel_size=3, strides=(2, 2), activation='relu'), \n",
        "    # E por fim uma camada convolucional com 2 filtros, kernel 3x3, sem padding e com passo 2\n",
        "    layers.Conv2D(2, kernel_size=3, strides=(2, 2), activation='relu'), \n",
        "    # \"Achatamos\" a entrada para a camada densa, que recebe um vetor\n",
        "    layers.Flatten(),                                    \n",
        "    # Camada densa para realizar a regressão não linear\n",
        "    layers.Dense(16, activation='leaky_relu'),\n",
        "    # Última camada realiza regressão linear a partir da representação da camada anterior\n",
        "    layers.Dense(1) # Camada de saída\n",
        "  ])\n",
        "# Vamos utilizar Adam e medir o desempenho também pelo erro absoluto médio\n",
        "modelo.compile(loss='mean_squared_error', optimizer='Adam', metrics= ['mean_squared_error'])"
      ],
      "id": "GoJ9REdDYtRR"
    },
    {
      "cell_type": "markdown",
      "metadata": {
        "id": "DEOgSpSQYtRR"
      },
      "source": [
        "Resumo do modelo que criamos -- compare o número de parâmetros com a rede densa da atividade anterior"
      ],
      "id": "DEOgSpSQYtRR"
    },
    {
      "cell_type": "code",
      "execution_count": 10,
      "metadata": {
        "colab": {
          "base_uri": "https://localhost:8080/"
        },
        "id": "HVTqwqkDYtRR",
        "outputId": "9361a88b-e5ed-4c41-9147-1a5166fc56fe"
      },
      "outputs": [
        {
          "output_type": "stream",
          "name": "stdout",
          "text": [
            "Model: \"sequential\"\n",
            "_________________________________________________________________\n",
            " Layer (type)                Output Shape              Param #   \n",
            "=================================================================\n",
            " conv2d (Conv2D)             (None, 40, 78, 16)        448       \n",
            "                                                                 \n",
            " conv2d_1 (Conv2D)           (None, 19, 38, 8)         1160      \n",
            "                                                                 \n",
            " conv2d_2 (Conv2D)           (None, 9, 18, 2)          146       \n",
            "                                                                 \n",
            " flatten (Flatten)           (None, 324)               0         \n",
            "                                                                 \n",
            " dense (Dense)               (None, 16)                5200      \n",
            "                                                                 \n",
            " dense_1 (Dense)             (None, 1)                 17        \n",
            "                                                                 \n",
            "=================================================================\n",
            "Total params: 6,971\n",
            "Trainable params: 6,971\n",
            "Non-trainable params: 0\n",
            "_________________________________________________________________\n"
          ]
        }
      ],
      "source": [
        "modelo.summary()"
      ],
      "id": "HVTqwqkDYtRR"
    },
    {
      "cell_type": "markdown",
      "metadata": {
        "id": "4HNFjgCvSnhQ"
      },
      "source": [
        "Agora otimimizamos o modelo -- Note: **esse processo usar recursos consideráveis do seu computador**, isto é, memória e tempo de processamento. Se seu computador não tiver recursos, considere usar o [Google Colab](http://colab.research.google.com/)."
      ],
      "id": "4HNFjgCvSnhQ"
    },
    {
      "cell_type": "code",
      "execution_count": 11,
      "metadata": {
        "colab": {
          "base_uri": "https://localhost:8080/"
        },
        "id": "vzmgT9RsSwO6",
        "outputId": "73cf478e-d468-488e-94db-0063f9e7086f"
      },
      "outputs": [
        {
          "output_type": "stream",
          "name": "stdout",
          "text": [
            "0%.....50%.....100%\n"
          ]
        }
      ],
      "source": [
        "num_epochs = 60 # número de épocas (iterações) so aprendizado -- quanto menos parâmetros menos iterações precisamos\n",
        "\n",
        "class PrintDot(keras.callbacks.Callback):\n",
        "    'Mostra progresso do aprendizado.'\n",
        "    def on_epoch_end(self, epoch, logs):\n",
        "        if epoch % 30 == 0: print(f'{100*epoch/num_epochs:.0f}%', end='') # mostrar % de progresso a cada 30 épocas\n",
        "        elif epoch % 5 == 0: print('.', end='')  # mostrar ponto a cada 5 épocas    \n",
        "\n",
        "# Chama função de aprendizado -- isso demora alguns minutos!\n",
        "hist = modelo.fit( \n",
        "    X_treino,                   # conjunto de entrada\n",
        "    y_treino.astype('float32'), # conjunto de saída -- precisamos reduzir a precisão numérica da saída também para manter consistência\n",
        "    epochs = num_epochs,        # número de épocas\n",
        "    validation_split = 0.1,     # separar porção dos dados para servir como validação\n",
        "    verbose = 0,                # 0, 1 ou 2, regulam a quantidade de feedback fornecido (verborragia)\n",
        "    batch_size = 128,            # vamos usar amostras do conjunto de treino para economizar memória e prevenir overfitting\n",
        "                                # - diminuir esse número reduz o uso de memória, porém diminui a convergência e estabilidade\n",
        "    callbacks=[PrintDot()]      # Vamos usar pontinhos para indicar o progresso\n",
        ")\n",
        "\n",
        "print('100%')"
      ],
      "id": "vzmgT9RsSwO6"
    },
    {
      "cell_type": "markdown",
      "metadata": {
        "id": "5XHMjzJaYtRR"
      },
      "source": [
        "Observe a curva de aprendizado; esperamos que ele tenha uma tendência de queda abrupta no começo para valores abaixo de 0.01 nas primeiras épocas e em seguida decresça mais lentamente. O erro de validação serve para se assegurar que o modelo não está superajustado aos dados de treino e que portanto sua acurácia *generaliza* para à população."
      ],
      "id": "5XHMjzJaYtRR"
    },
    {
      "cell_type": "code",
      "execution_count": 12,
      "metadata": {
        "colab": {
          "base_uri": "https://localhost:8080/",
          "height": 281
        },
        "id": "qrv-ruPzYtRS",
        "outputId": "a9cd8f9d-b3b1-4c62-cfe4-cde0d1501281"
      },
      "outputs": [
        {
          "output_type": "display_data",
          "data": {
            "text/plain": [
              "<Figure size 432x288 with 1 Axes>"
            ],
            "image/png": "[encoded data removed]"
          },
          "metadata": {
            "needs_background": "light"
          }
        }
      ],
      "source": [
        "plt.plot(hist.epoch, hist.history['loss'], label='erro de treino');\n",
        "plt.plot(hist.epoch, hist.history['val_loss'], label='erro de validação');\n",
        "plt.xlabel('Época');\n",
        "plt.ylabel('Avaliação');\n",
        "plt.legend();"
      ],
      "id": "qrv-ruPzYtRS"
    },
    {
      "cell_type": "markdown",
      "metadata": {
        "id": "-eKhYX7CYtRS"
      },
      "source": [
        "### E se meu preditor é ruim?\n",
        "\n",
        "Você pode tentar melhorar a qualidade do seu preditor:\n",
        "\n",
        "1. Realizando novamente o aprendizado a partir de outro solução inicial (aleatória)\n",
        "2. Aumentanto a quantidade de camadas convolucionais da rede ou a quantidade de filtros por camada\n",
        "3. Aumentando o número de épocas de treino\n",
        "4. Aumentando o tamanho do _minibatch_\n",
        "5. Modificando o algoritmo de aprendizado (RMSProp é outro algoritmo comumente utilizado)"
      ],
      "id": "-eKhYX7CYtRS"
    },
    {
      "cell_type": "markdown",
      "metadata": {
        "id": "RBnkoryvYtRS"
      },
      "source": [
        "## Teste sua rede\n",
        "\n",
        "Antes de anunciarmos o problema como resolvido, precisamos nos assegurar que os resultados serão replicados em  dados futuros. Para isso vamos medir a qualidade do modelo no conjunto de teste que separamos."
      ],
      "id": "RBnkoryvYtRS"
    },
    {
      "cell_type": "code",
      "execution_count": 13,
      "metadata": {
        "colab": {
          "base_uri": "https://localhost:8080/"
        },
        "id": "8HbHgMa_YtRS",
        "outputId": "41693f06-78c7-472b-e349-c74cc91c2b0b"
      },
      "outputs": [
        {
          "output_type": "stream",
          "name": "stdout",
          "text": [
            "12/12 [==============================] - 0s 22ms/step\n",
            "MSE: 0.003415367647326884\n"
          ]
        }
      ],
      "source": [
        "# Calcular erro médio no conjunto de teste\n",
        "y_pred = modelo.predict(X_teste).flatten() \n",
        "mse = ((y_pred - y_teste)**2).sum()/y_pred.size\n",
        "print('MSE:', mse)"
      ],
      "id": "8HbHgMa_YtRS"
    },
    {
      "cell_type": "markdown",
      "metadata": {
        "id": "smxFNu1_YtRS"
      },
      "source": [
        "Você deve observar se o erro médio no conjunto de teste é similar ao observado no conjunto de validação e no de treino. Uma forma mais rigorosa de atestar semelhança seria construindo intervalos de confiança para os estimadores. Nessa atividade vamos nos satisfazer com uma análise qualitativa subjetiva apenas."
      ],
      "id": "smxFNu1_YtRS"
    },
    {
      "cell_type": "code",
      "execution_count": 14,
      "metadata": {
        "colab": {
          "base_uri": "https://localhost:8080/",
          "height": 144
        },
        "id": "MSIspndvYtRS",
        "outputId": "2f75b00d-4acb-45f3-99bd-cfc702e96b0a"
      },
      "outputs": [
        {
          "output_type": "display_data",
          "data": {
            "text/plain": [
              "<Figure size 432x288 with 2 Axes>"
            ],
            "image/png": "[encoded data removed]"
          },
          "metadata": {
            "needs_background": "light"
          }
        }
      ],
      "source": [
        "k = 0 # índice de exemplo -- mude para ver outro caso\n",
        "fig, ax = plt.subplots(1,2)\n",
        "ax[0].imshow(X_teste[k]); \n",
        "ax[0].set_title(f'{y_teste[k]:.4f}');\n",
        "ax[1].imshow(X_teste[k]); \n",
        "ax[1].set_title(f'{y_pred[k]:.4f}');"
      ],
      "id": "MSIspndvYtRS"
    },
    {
      "cell_type": "code",
      "execution_count": null,
      "metadata": {
        "id": "3f0oLiYLYtRT"
      },
      "outputs": [],
      "source": [],
      "id": "3f0oLiYLYtRT"
    }
  ],
  "metadata": {
    "colab": {
      "collapsed_sections": [],
      "provenance": []
    },
    "kernelspec": {
      "display_name": "Python 3.10.7 64-bit",
      "language": "python",
      "name": "python3"
    },
    "language_info": {
      "codemirror_mode": {
        "name": "ipython",
        "version": 3
      },
      "file_extension": ".py",
      "mimetype": "text/x-python",
      "name": "python",
      "nbconvert_exporter": "python",
      "pygments_lexer": "ipython3",
      "version": "3.10.7"
    },
    "vscode": {
      "interpreter": {
        "hash": "949777d72b0d2535278d3dc13498b2535136f6dfe0678499012e853ee9abcab1"
      }
    }
  },
  "nbformat": 4,
  "nbformat_minor": 5
}